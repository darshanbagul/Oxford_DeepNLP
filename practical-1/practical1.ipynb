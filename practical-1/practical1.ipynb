{
 "cells": [
  {
   "cell_type": "markdown",
   "metadata": {},
   "source": [
    "## Practical 1: word2vec\n",
    "<p>Oxford CS - Deep NLP 2017<br>\n",
    "https://www.cs.ox.ac.uk/teaching/courses/2016-2017/dl/</p>\n",
    "<p>[Yannis Assael, Brendan Shillingford, Chris Dyer]</p>"
   ]
  },
  {
   "cell_type": "markdown",
   "metadata": {},
   "source": [
    "This practical is presented as an IPython Notebook, with the code written for recent versions of **Python 3**. The code in this practical will not work with Python 2 unless you modify it. If you are using your own Python installation, ensure you have a setup identical to that described in the installation shell script (which is intended for use with the department lab machines). We will be unable to support installation on personal machines due to time constraints, so please use the lab machines and the setup script if you are unfamiliar with how to install Anaconda.\n",
    "\n",
    "To execute a notebook cell, press `shift-enter`. The return value of the last command will be displayed, if it is not `None`.\n",
    "\n",
    "Potentially useful library documentation, references, and resources:\n",
    "\n",
    "* IPython notebooks: <https://ipython.org/ipython-doc/3/notebook/notebook.html#introduction>\n",
    "* Numpy numerical array library: <https://docs.scipy.org/doc/>\n",
    "* Gensim's word2vec: <https://radimrehurek.com/gensim/models/word2vec.html>\n",
    "* Bokeh interactive plots: <http://bokeh.pydata.org/en/latest/> (we provide plotting code here, but click the thumbnails for more examples to copy-paste)\n",
    "* scikit-learn ML library (aka `sklearn`): <http://scikit-learn.org/stable/documentation.html>\n",
    "* nltk NLP toolkit: <http://www.nltk.org/>\n",
    "* tutorial for processing xml in python using `lxml`: <http://lxml.de/tutorial.html> (we did this for you below, but in case you need it in the future)"
   ]
  },
  {
   "cell_type": "code",
   "execution_count": 21,
   "metadata": {
    "collapsed": false
   },
   "outputs": [],
   "source": [
    "import numpy as np\n",
    "import os\n",
    "from random import shuffle\n",
    "import re"
   ]
  },
  {
   "cell_type": "code",
   "execution_count": 24,
   "metadata": {
    "collapsed": false
   },
   "outputs": [
    {
     "data": {
      "text/html": [
       "\n",
       "    <div class=\"bk-root\">\n",
       "        <a href=\"http://bokeh.pydata.org\" target=\"_blank\" class=\"bk-logo bk-logo-small bk-logo-notebook\"></a>\n",
       "        <span id=\"8dc44cff-edf7-43d1-89c3-a63309c80231\">Loading BokehJS ...</span>\n",
       "    </div>"
      ]
     },
     "metadata": {},
     "output_type": "display_data"
    },
    {
     "data": {
      "application/javascript": [
       "\n",
       "(function(global) {\n",
       "  function now() {\n",
       "    return new Date();\n",
       "  }\n",
       "\n",
       "  var force = true;\n",
       "\n",
       "  if (typeof (window._bokeh_onload_callbacks) === \"undefined\" || force === true) {\n",
       "    window._bokeh_onload_callbacks = [];\n",
       "    window._bokeh_is_loading = undefined;\n",
       "  }\n",
       "\n",
       "\n",
       "  \n",
       "  if (typeof (window._bokeh_timeout) === \"undefined\" || force === true) {\n",
       "    window._bokeh_timeout = Date.now() + 5000;\n",
       "    window._bokeh_failed_load = false;\n",
       "  }\n",
       "\n",
       "  var NB_LOAD_WARNING = {'data': {'text/html':\n",
       "     \"<div style='background-color: #fdd'>\\n\"+\n",
       "     \"<p>\\n\"+\n",
       "     \"BokehJS does not appear to have successfully loaded. If loading BokehJS from CDN, this \\n\"+\n",
       "     \"may be due to a slow or bad network connection. Possible fixes:\\n\"+\n",
       "     \"</p>\\n\"+\n",
       "     \"<ul>\\n\"+\n",
       "     \"<li>re-rerun `output_notebook()` to attempt to load from CDN again, or</li>\\n\"+\n",
       "     \"<li>use INLINE resources instead, as so:</li>\\n\"+\n",
       "     \"</ul>\\n\"+\n",
       "     \"<code>\\n\"+\n",
       "     \"from bokeh.resources import INLINE\\n\"+\n",
       "     \"output_notebook(resources=INLINE)\\n\"+\n",
       "     \"</code>\\n\"+\n",
       "     \"</div>\"}};\n",
       "\n",
       "  function display_loaded() {\n",
       "    if (window.Bokeh !== undefined) {\n",
       "      var el = document.getElementById(\"8dc44cff-edf7-43d1-89c3-a63309c80231\");\n",
       "      el.textContent = \"BokehJS \" + Bokeh.version + \" successfully loaded.\";\n",
       "    } else if (Date.now() < window._bokeh_timeout) {\n",
       "      setTimeout(display_loaded, 100)\n",
       "    }\n",
       "  }\n",
       "\n",
       "  function run_callbacks() {\n",
       "    try {\n",
       "      window._bokeh_onload_callbacks.forEach(function(callback) { callback() });\n",
       "    }\n",
       "    finally {\n",
       "      delete window._bokeh_onload_callbacks\n",
       "    }\n",
       "    console.info(\"Bokeh: all callbacks have finished\");\n",
       "  }\n",
       "\n",
       "  function load_libs(js_urls, callback) {\n",
       "    window._bokeh_onload_callbacks.push(callback);\n",
       "    if (window._bokeh_is_loading > 0) {\n",
       "      console.log(\"Bokeh: BokehJS is being loaded, scheduling callback at\", now());\n",
       "      return null;\n",
       "    }\n",
       "    if (js_urls == null || js_urls.length === 0) {\n",
       "      run_callbacks();\n",
       "      return null;\n",
       "    }\n",
       "    console.log(\"Bokeh: BokehJS not loaded, scheduling load and callback at\", now());\n",
       "    window._bokeh_is_loading = js_urls.length;\n",
       "    for (var i = 0; i < js_urls.length; i++) {\n",
       "      var url = js_urls[i];\n",
       "      var s = document.createElement('script');\n",
       "      s.src = url;\n",
       "      s.async = false;\n",
       "      s.onreadystatechange = s.onload = function() {\n",
       "        window._bokeh_is_loading--;\n",
       "        if (window._bokeh_is_loading === 0) {\n",
       "          console.log(\"Bokeh: all BokehJS libraries loaded\");\n",
       "          run_callbacks()\n",
       "        }\n",
       "      };\n",
       "      s.onerror = function() {\n",
       "        console.warn(\"failed to load library \" + url);\n",
       "      };\n",
       "      console.log(\"Bokeh: injecting script tag for BokehJS library: \", url);\n",
       "      document.getElementsByTagName(\"head\")[0].appendChild(s);\n",
       "    }\n",
       "  };var element = document.getElementById(\"8dc44cff-edf7-43d1-89c3-a63309c80231\");\n",
       "  if (element == null) {\n",
       "    console.log(\"Bokeh: ERROR: autoload.js configured with elementid '8dc44cff-edf7-43d1-89c3-a63309c80231' but no matching script tag was found. \")\n",
       "    return false;\n",
       "  }\n",
       "\n",
       "  var js_urls = [\"https://cdn.pydata.org/bokeh/release/bokeh-0.12.6.min.js\", \"https://cdn.pydata.org/bokeh/release/bokeh-widgets-0.12.6.min.js\"];\n",
       "\n",
       "  var inline_js = [\n",
       "    function(Bokeh) {\n",
       "      Bokeh.set_log_level(\"info\");\n",
       "    },\n",
       "    \n",
       "    function(Bokeh) {\n",
       "      \n",
       "    },\n",
       "    \n",
       "    function(Bokeh) {\n",
       "      \n",
       "      document.getElementById(\"8dc44cff-edf7-43d1-89c3-a63309c80231\").textContent = \"BokehJS is loading...\";\n",
       "    },\n",
       "    function(Bokeh) {\n",
       "      console.log(\"Bokeh: injecting CSS: https://cdn.pydata.org/bokeh/release/bokeh-0.12.6.min.css\");\n",
       "      Bokeh.embed.inject_css(\"https://cdn.pydata.org/bokeh/release/bokeh-0.12.6.min.css\");\n",
       "      console.log(\"Bokeh: injecting CSS: https://cdn.pydata.org/bokeh/release/bokeh-widgets-0.12.6.min.css\");\n",
       "      Bokeh.embed.inject_css(\"https://cdn.pydata.org/bokeh/release/bokeh-widgets-0.12.6.min.css\");\n",
       "    }\n",
       "  ];\n",
       "\n",
       "  function run_inline_js() {\n",
       "    \n",
       "    if ((window.Bokeh !== undefined) || (force === true)) {\n",
       "      for (var i = 0; i < inline_js.length; i++) {\n",
       "        inline_js[i](window.Bokeh);\n",
       "      }if (force === true) {\n",
       "        display_loaded();\n",
       "      }} else if (Date.now() < window._bokeh_timeout) {\n",
       "      setTimeout(run_inline_js, 100);\n",
       "    } else if (!window._bokeh_failed_load) {\n",
       "      console.log(\"Bokeh: BokehJS failed to load within specified timeout.\");\n",
       "      window._bokeh_failed_load = true;\n",
       "    } else if (force !== true) {\n",
       "      var cell = $(document.getElementById(\"8dc44cff-edf7-43d1-89c3-a63309c80231\")).parents('.cell').data().cell;\n",
       "      cell.output_area.append_execute_result(NB_LOAD_WARNING)\n",
       "    }\n",
       "\n",
       "  }\n",
       "\n",
       "  if (window._bokeh_is_loading === 0) {\n",
       "    console.log(\"Bokeh: BokehJS loaded, going straight to plotting\");\n",
       "    run_inline_js();\n",
       "  } else {\n",
       "    load_libs(js_urls, function() {\n",
       "      console.log(\"Bokeh: BokehJS plotting callback run at\", now());\n",
       "      run_inline_js();\n",
       "    });\n",
       "  }\n",
       "}(this));"
      ]
     },
     "metadata": {},
     "output_type": "display_data"
    }
   ],
   "source": [
    "from bokeh.models import ColumnDataSource, LabelSet\n",
    "from bokeh.plotting import figure, show, output_file\n",
    "from bokeh.io import output_notebook\n",
    "output_notebook()"
   ]
  },
  {
   "cell_type": "markdown",
   "metadata": {},
   "source": [
    "### Part 0: Download the TED dataset"
   ]
  },
  {
   "cell_type": "code",
   "execution_count": 22,
   "metadata": {
    "collapsed": false
   },
   "outputs": [],
   "source": [
    "import urllib\n",
    "import zipfile\n",
    "import lxml.etree"
   ]
  },
  {
   "cell_type": "code",
   "execution_count": 4,
   "metadata": {
    "collapsed": false
   },
   "outputs": [],
   "source": [
    "# Download the dataset if it's not already there: this may take a minute as it is 75MB\n",
    "if not os.path.isfile('ted_en-20160408.zip'):\n",
    "    urllib.urlretrieve(\"https://wit3.fbk.eu/get.php?path=XML_releases/xml/ted_en-20160408.zip&filename=ted_en-20160408.zip\", filename=\"ted_en-20160408.zip\")"
   ]
  },
  {
   "cell_type": "code",
   "execution_count": 5,
   "metadata": {
    "collapsed": true
   },
   "outputs": [],
   "source": [
    "# For now, we're only interested in the subtitle text, so let's extract that from the XML:\n",
    "with zipfile.ZipFile('ted_en-20160408.zip', 'r') as z:\n",
    "    doc = lxml.etree.parse(z.open('ted_en-20160408.xml', 'r'))\n",
    "input_text = '\\n'.join(doc.xpath('//content/text()'))\n",
    "del doc"
   ]
  },
  {
   "cell_type": "markdown",
   "metadata": {},
   "source": [
    "### Part 1: Preprocessing\n",
    "\n",
    "In this part, we attempt to clean up the raw subtitles a bit, so that we get only sentences. The following substring shows examples of what we're trying to get rid of. Since it's hard to define precisely what we want to get rid of, we'll just use some simple heuristics."
   ]
  },
  {
   "cell_type": "code",
   "execution_count": 6,
   "metadata": {
    "collapsed": false,
    "scrolled": false
   },
   "outputs": [
    {
     "data": {
      "text/plain": [
       "u' baby does.\\n(Video) Hyowon Gweon: See this? (Ball squeaks) Did you see that? (Ball squeaks) Cool. See this one? (Ball squeaks) Wow.\\nLaura Schulz: Told you. (Laughs)\\n(Vide'"
      ]
     },
     "execution_count": 6,
     "metadata": {},
     "output_type": "execute_result"
    }
   ],
   "source": [
    "i = input_text.find(\"Hyowon Gweon: See this?\")\n",
    "input_text[i-20:i+150]"
   ]
  },
  {
   "cell_type": "markdown",
   "metadata": {},
   "source": [
    "Let's start by removing all parenthesized strings using a regex:"
   ]
  },
  {
   "cell_type": "code",
   "execution_count": 9,
   "metadata": {
    "collapsed": false
   },
   "outputs": [],
   "source": [
    "input_text_noparens = re.sub(r'\\([^)]*\\)', '', input_text)"
   ]
  },
  {
   "cell_type": "markdown",
   "metadata": {},
   "source": [
    "We can verify the same location in the text is now clean as follows. We won't worry about the irregular spaces since we'll later split the text into sentences and tokenize it anyway."
   ]
  },
  {
   "cell_type": "code",
   "execution_count": 10,
   "metadata": {
    "collapsed": false
   },
   "outputs": [
    {
     "data": {
      "text/plain": [
       "u\"hat the baby does.\\n Hyowon Gweon: See this?  Did you see that?  Cool. See this one?  Wow.\\nLaura Schulz: Told you. \\n HG: See this one?  Hey Clara, this one's for you. You \""
      ]
     },
     "execution_count": 10,
     "metadata": {},
     "output_type": "execute_result"
    }
   ],
   "source": [
    "i = input_text_noparens.find(\"Hyowon Gweon: See this?\")\n",
    "input_text_noparens[i-20:i+150]"
   ]
  },
  {
   "cell_type": "markdown",
   "metadata": {},
   "source": [
    "Now, let's attempt to remove speakers' names that occur at the beginning of a line, by deleting pieces of the form \"`<up to 20 characters>:`\", as shown in this example. Of course, this is an imperfect heuristic. "
   ]
  },
  {
   "cell_type": "code",
   "execution_count": 11,
   "metadata": {
    "collapsed": false
   },
   "outputs": [
    {
     "data": {
      "text/plain": [
       "[u\"Here are two reasons companies fail: they only do more of the same, or they only do what's new\",\n",
       " u'To me the real, real solution to quality growth is figuring out the balance between two activities: exploration and exploitation',\n",
       " u' Both are necessary, but it can be too much of a good thing',\n",
       " u'Consider Facit',\n",
       " u\" I'm actually old enough to remember them\"]"
      ]
     },
     "execution_count": 11,
     "metadata": {},
     "output_type": "execute_result"
    }
   ],
   "source": [
    "sentences_strings_ted = []\n",
    "for line in input_text_noparens.split('\\n'):\n",
    "    m = re.match(r'^(?:(?P<precolon>[^:]{,20}):)?(?P<postcolon>.*)$', line)\n",
    "    sentences_strings_ted.extend(sent for sent in m.groupdict()['postcolon'].split('.') if sent)\n",
    "\n",
    "# Uncomment if you need to save some RAM: these strings are about 50MB.\n",
    "# del input_text, input_text_noparens\n",
    "\n",
    "# Let's view the first few:\n",
    "sentences_strings_ted[:5]"
   ]
  },
  {
   "cell_type": "markdown",
   "metadata": {},
   "source": [
    "Now that we have sentences, we're ready to tokenize each of them into words. This tokenization is imperfect, of course. For instance, how many tokens is \"can't\", and where/how do we split it? We'll take the simplest naive approach of splitting on spaces. Before splitting, we remove non-alphanumeric characters, such as punctuation. You may want to consider the following question: why do we replace these characters with spaces rather than deleting them? Think of a case where this yields a different answer."
   ]
  },
  {
   "cell_type": "code",
   "execution_count": 12,
   "metadata": {
    "collapsed": false
   },
   "outputs": [],
   "source": [
    "sentences_ted = []\n",
    "for sent_str in sentences_strings_ted:\n",
    "    tokens = re.sub(r\"[^a-z0-9]+\", \" \", sent_str.lower()).split()\n",
    "    sentences_ted.append(tokens)"
   ]
  },
  {
   "cell_type": "markdown",
   "metadata": {},
   "source": [
    "Two sample processed sentences:"
   ]
  },
  {
   "cell_type": "code",
   "execution_count": 13,
   "metadata": {
    "collapsed": false
   },
   "outputs": [
    {
     "data": {
      "text/plain": [
       "266694"
      ]
     },
     "execution_count": 13,
     "metadata": {},
     "output_type": "execute_result"
    }
   ],
   "source": [
    "len(sentences_ted)"
   ]
  },
  {
   "cell_type": "code",
   "execution_count": 14,
   "metadata": {
    "collapsed": false
   },
   "outputs": [
    {
     "name": "stdout",
     "output_type": "stream",
     "text": [
      "[u'here', u'are', u'two', u'reasons', u'companies', u'fail', u'they', u'only', u'do', u'more', u'of', u'the', u'same', u'or', u'they', u'only', u'do', u'what', u's', u'new']\n",
      "[u'to', u'me', u'the', u'real', u'real', u'solution', u'to', u'quality', u'growth', u'is', u'figuring', u'out', u'the', u'balance', u'between', u'two', u'activities', u'exploration', u'and', u'exploitation']\n"
     ]
    }
   ],
   "source": [
    "print(sentences_ted[0])\n",
    "print(sentences_ted[1])"
   ]
  },
  {
   "cell_type": "markdown",
   "metadata": {},
   "source": [
    "### Part 2: Word Frequencies"
   ]
  },
  {
   "cell_type": "markdown",
   "metadata": {},
   "source": [
    "If you store the counts of the top 1000 words in a list called `counts_ted_top1000`, the code below will plot the histogram requested in the writeup."
   ]
  },
  {
   "cell_type": "code",
   "execution_count": 18,
   "metadata": {
    "collapsed": true
   },
   "outputs": [],
   "source": [
    "from collections import Counter\n",
    "word_counter = Counter([w for sen in sentences_ted for w in sen])"
   ]
  },
  {
   "cell_type": "code",
   "execution_count": 32,
   "metadata": {
    "collapsed": false
   },
   "outputs": [],
   "source": [
    "counts_ted_top1000 = [pair[1] for pair in word_counter.most_common(1000)]\n",
    "\n",
    "words_top_ted = [pair[0] for pair in word_counter.most_common(1000)]"
   ]
  },
  {
   "cell_type": "markdown",
   "metadata": {},
   "source": [
    "Plot distribution of top-1000 words"
   ]
  },
  {
   "cell_type": "code",
   "execution_count": 25,
   "metadata": {
    "collapsed": false
   },
   "outputs": [
    {
     "data": {
      "text/html": [
       "\n",
       "\n",
       "    <div class=\"bk-root\">\n",
       "        <div class=\"bk-plotdiv\" id=\"bb3a1ccc-d187-40ed-be0c-f4ea5c5c431f\"></div>\n",
       "    </div>\n",
       "<script type=\"text/javascript\">\n",
       "  \n",
       "  (function(global) {\n",
       "    function now() {\n",
       "      return new Date();\n",
       "    }\n",
       "  \n",
       "    var force = false;\n",
       "  \n",
       "    if (typeof (window._bokeh_onload_callbacks) === \"undefined\" || force === true) {\n",
       "      window._bokeh_onload_callbacks = [];\n",
       "      window._bokeh_is_loading = undefined;\n",
       "    }\n",
       "  \n",
       "  \n",
       "    \n",
       "    if (typeof (window._bokeh_timeout) === \"undefined\" || force === true) {\n",
       "      window._bokeh_timeout = Date.now() + 0;\n",
       "      window._bokeh_failed_load = false;\n",
       "    }\n",
       "  \n",
       "    var NB_LOAD_WARNING = {'data': {'text/html':\n",
       "       \"<div style='background-color: #fdd'>\\n\"+\n",
       "       \"<p>\\n\"+\n",
       "       \"BokehJS does not appear to have successfully loaded. If loading BokehJS from CDN, this \\n\"+\n",
       "       \"may be due to a slow or bad network connection. Possible fixes:\\n\"+\n",
       "       \"</p>\\n\"+\n",
       "       \"<ul>\\n\"+\n",
       "       \"<li>re-rerun `output_notebook()` to attempt to load from CDN again, or</li>\\n\"+\n",
       "       \"<li>use INLINE resources instead, as so:</li>\\n\"+\n",
       "       \"</ul>\\n\"+\n",
       "       \"<code>\\n\"+\n",
       "       \"from bokeh.resources import INLINE\\n\"+\n",
       "       \"output_notebook(resources=INLINE)\\n\"+\n",
       "       \"</code>\\n\"+\n",
       "       \"</div>\"}};\n",
       "  \n",
       "    function display_loaded() {\n",
       "      if (window.Bokeh !== undefined) {\n",
       "        var el = document.getElementById(\"bb3a1ccc-d187-40ed-be0c-f4ea5c5c431f\");\n",
       "        el.textContent = \"BokehJS \" + Bokeh.version + \" successfully loaded.\";\n",
       "      } else if (Date.now() < window._bokeh_timeout) {\n",
       "        setTimeout(display_loaded, 100)\n",
       "      }\n",
       "    }\n",
       "  \n",
       "    function run_callbacks() {\n",
       "      try {\n",
       "        window._bokeh_onload_callbacks.forEach(function(callback) { callback() });\n",
       "      }\n",
       "      finally {\n",
       "        delete window._bokeh_onload_callbacks\n",
       "      }\n",
       "      console.info(\"Bokeh: all callbacks have finished\");\n",
       "    }\n",
       "  \n",
       "    function load_libs(js_urls, callback) {\n",
       "      window._bokeh_onload_callbacks.push(callback);\n",
       "      if (window._bokeh_is_loading > 0) {\n",
       "        console.log(\"Bokeh: BokehJS is being loaded, scheduling callback at\", now());\n",
       "        return null;\n",
       "      }\n",
       "      if (js_urls == null || js_urls.length === 0) {\n",
       "        run_callbacks();\n",
       "        return null;\n",
       "      }\n",
       "      console.log(\"Bokeh: BokehJS not loaded, scheduling load and callback at\", now());\n",
       "      window._bokeh_is_loading = js_urls.length;\n",
       "      for (var i = 0; i < js_urls.length; i++) {\n",
       "        var url = js_urls[i];\n",
       "        var s = document.createElement('script');\n",
       "        s.src = url;\n",
       "        s.async = false;\n",
       "        s.onreadystatechange = s.onload = function() {\n",
       "          window._bokeh_is_loading--;\n",
       "          if (window._bokeh_is_loading === 0) {\n",
       "            console.log(\"Bokeh: all BokehJS libraries loaded\");\n",
       "            run_callbacks()\n",
       "          }\n",
       "        };\n",
       "        s.onerror = function() {\n",
       "          console.warn(\"failed to load library \" + url);\n",
       "        };\n",
       "        console.log(\"Bokeh: injecting script tag for BokehJS library: \", url);\n",
       "        document.getElementsByTagName(\"head\")[0].appendChild(s);\n",
       "      }\n",
       "    };var element = document.getElementById(\"bb3a1ccc-d187-40ed-be0c-f4ea5c5c431f\");\n",
       "    if (element == null) {\n",
       "      console.log(\"Bokeh: ERROR: autoload.js configured with elementid 'bb3a1ccc-d187-40ed-be0c-f4ea5c5c431f' but no matching script tag was found. \")\n",
       "      return false;\n",
       "    }\n",
       "  \n",
       "    var js_urls = [];\n",
       "  \n",
       "    var inline_js = [\n",
       "      function(Bokeh) {\n",
       "        (function() {\n",
       "          var fn = function() {\n",
       "            var docs_json = {\"838d8f40-b059-42e4-ac18-0bd95d54315a\":{\"roots\":{\"references\":[{\"attributes\":{\"callback\":null,\"column_names\":[\"top\",\"right\",\"left\"],\"data\":{\"left\":{\"__ndarray__\":\"AAAAAABAeUB7FK5H4VqjQHsUrkfhxrFAuB6F61HguUB7FK5H4fzAQJqZmZmZCcVAuB6F61EWyUDXo3A9CiPNQHsUrkfhl9BACtejcD2e0kCamZmZmaTUQClcj8L1qtZAuB6F61Gx2EBI4XoUrrfaQNejcD0KvtxAZ2ZmZmbE3kB7FK5HYWXgQMP1KFyPaOFACtejcL1r4kBSuB6F627jQJqZmZkZcuRA4XoUrkd15UApXI/CdXjmQHE9Cteje+dAuB6F69F+6EAAAAAAAILpQEjhehQuhepAkML1KFyI60DXo3A9iovsQB+F61G4ju1AZ2ZmZuaR7kCuR+F6FJXvQHsUrkchTPBAH4XrUbjN8EDD9ShcT0/xQGdmZmbm0PFACtejcH1S8kCuR+F6FNTyQFK4HoWrVfNA9ihcj0LX80CamZmZ2Vj0QD4K16Nw2vRA4XoUrgdc9UCF61G4nt31QClcj8I1X/ZAzczMzMzg9kBxPQrXY2L3QBWuR+H64/dAuB6F65Fl+EBcj8L1KOf4QAAAAADAaPlApHA9Clfq+UBI4XoU7mv6QOxRuB6F7fpAkML1KBxv+0AzMzMzs/D7QNejcD1KcvxAexSuR+Hz/EAfhetReHX9QMP1KFwP9/1AZ2ZmZqZ4/kAK16NwPfr+QK5H4XrUe/9AUrgehWv9/0B7FK5HgT8AQc3MzMxMgABBH4XrURjBAEFxPQrX4wEBQcP1KFyvQgFBFa5H4XqDAUFnZmZmRsQBQbgehesRBQJBCtejcN1FAkFcj8L1qIYCQa5H4Xp0xwJBAAAAAEAIA0FSuB6FC0kDQaRwPQrXiQNB9ihcj6LKA0FI4XoUbgsEQZqZmZk5TARB7FG4HgWNBEE+Ctej0M0EQZDC9SicDgVB4XoUrmdPBUEzMzMzM5AFQYXrUbj+0AVB16NwPcoRBkEpXI/ClVIGQXsUrkdhkwZBzczMzCzUBkEfhetR+BQHQXE9CtfDVQdBw/UoXI+WB0EVrkfhWtcHQWdmZmYmGAhBuB6F6/FYCEEK16NwvZkIQVyPwvWI2ghBrkfhelQbCUE=\",\"dtype\":\"float64\",\"shape\":[100]},\"right\":{\"__ndarray__\":\"exSuR+Fao0B7FK5H4caxQLgehetR4LlAexSuR+H8wECamZmZmQnFQLgehetRFslA16NwPQojzUB7FK5H4ZfQQArXo3A9ntJAmpmZmZmk1EApXI/C9arWQLgehetRsdhASOF6FK632kDXo3A9Cr7cQGdmZmZmxN5AexSuR2Fl4EDD9Shcj2jhQArXo3C9a+JAUrgehetu40CamZmZGXLkQOF6FK5HdeVAKVyPwnV45kBxPQrXo3vnQLgehevRfuhAAAAAAACC6UBI4XoULoXqQJDC9ShciOtA16NwPYqL7EAfhetRuI7tQGdmZmbmke5ArkfhehSV70B7FK5HIUzwQB+F61G4zfBAw/UoXE9P8UBnZmZm5tDxQArXo3B9UvJArkfhehTU8kBSuB6Fq1XzQPYoXI9C1/NAmpmZmdlY9EA+CtejcNr0QOF6FK4HXPVAhetRuJ7d9UApXI/CNV/2QM3MzMzM4PZAcT0K12Ni90AVrkfh+uP3QLgeheuRZfhAXI/C9Sjn+EAAAAAAwGj5QKRwPQpX6vlASOF6FO5r+kDsUbgehe36QJDC9Sgcb/tAMzMzM7Pw+0DXo3A9SnL8QHsUrkfh8/xAH4XrUXh1/UDD9ShcD/f9QGdmZmameP5ACtejcD36/kCuR+F61Hv/QFK4HoVr/f9AexSuR4E/AEHNzMzMTIAAQR+F61EYwQBBcT0K1+MBAUHD9Shcr0IBQRWuR+F6gwFBZ2ZmZkbEAUG4HoXrEQUCQQrXo3DdRQJBXI/C9aiGAkGuR+F6dMcCQQAAAABACANBUrgehQtJA0GkcD0K14kDQfYoXI+iygNBSOF6FG4LBEGamZmZOUwEQexRuB4FjQRBPgrXo9DNBEGQwvUonA4FQeF6FK5nTwVBMzMzMzOQBUGF61G4/tAFQdejcD3KEQZBKVyPwpVSBkF7FK5HYZMGQc3MzMws1AZBH4XrUfgUB0FxPQrXw1UHQcP1KFyPlgdBFa5H4VrXB0FnZmZmJhgIQbgehevxWAhBCtejcL2ZCEFcj8L1iNoIQa5H4XpUGwlBAAAAACBcCUE=\",\"dtype\":\"float64\",\"shape\":[100]},\"top\":{\"__ndarray__\":\"50H1zNSBOT/ypb1tgHIBPwsriUb5Uew+zuTFiLI04j78kGUPxTHhPh40R25oQNY+zuTFiLI00j4pPQWW1y7APsTbB2FDRsg+JT0FltcuwD4tPQWW1y6wPi09BZbXLrA+JT0FltcuwD4tPQWW1y6gPiU9BZbXLrA+LT0FltcuoD4AAAAAAAAAADU9BZbXLqA+AAAAAAAAAAAAAAAAAAAAAAAAAAAAAAAAAAAAAAAAAAAAAAAAAAAAADU9BZbXLqA+AAAAAAAAAAAAAAAAAAAAAAAAAAAAAAAANT0FltcuoD4AAAAAAAAAAAAAAAAAAAAANT0FltcuoD4AAAAAAAAAACU9BZbXLqA+AAAAAAAAAAAlPQWW1y6gPkU9BZbXLqA+AAAAAAAAAAAlPQWW1y6gPgAAAAAAAAAAJT0FltcuoD4AAAAAAAAAAAAAAAAAAAAAAAAAAAAAAAAAAAAAAAAAAAAAAAAAAAAAJT0FltcuoD4AAAAAAAAAAAAAAAAAAAAAAAAAAAAAAAAAAAAAAAAAACU9BZbXLqA+AAAAAAAAAAAAAAAAAAAAAAAAAAAAAAAAAAAAAAAAAAAlPQWW1y6gPgAAAAAAAAAAAAAAAAAAAAAAAAAAAAAAAAAAAAAAAAAART0FltcuoD4AAAAAAAAAAAAAAAAAAAAAAAAAAAAAAAAAAAAAAAAAAAAAAAAAAAAAAAAAAAAAAAAAAAAAAAAAAAAAAAAAAAAAAAAAAAAAAAAAAAAAAAAAACU9BZbXLqA+AAAAAAAAAAAAAAAAAAAAAAAAAAAAAAAAAAAAAAAAAAAAAAAAAAAAAAAAAAAAAAAAAAAAAAAAAAAAAAAAAAAAAAAAAAAAAAAAAAAAAAAAAAAAAAAAAAAAAAAAAAAAAAAAAAAAAAAAAAAAAAAAAAAAAAAAAAAAAAAAAAAAAAAAAAAAAAAAAAAAAAAAAAAAAAAAAAAAAAAAAAAAAAAAAAAAAAAAAAAAAAAAAAAAAAAAAAAAAAAAAAAAAAAAAAAAAAAAAAAAAAAAAAAAAAAAAAAAAAAAAAAAAAAAJT0FltcuoD4=\",\"dtype\":\"float64\",\"shape\":[100]}}},\"id\":\"a8070a57-6a1b-446e-8b7e-92bf37be65c6\",\"type\":\"ColumnDataSource\"},{\"attributes\":{\"callback\":null},\"id\":\"751cf2ad-3aa0-464b-852c-9f844d26f12b\",\"type\":\"DataRange1d\"},{\"attributes\":{\"bottom\":{\"value\":0},\"fill_color\":{\"value\":\"#1f77b4\"},\"left\":{\"field\":\"left\"},\"line_color\":{\"value\":\"#555555\"},\"right\":{\"field\":\"right\"},\"top\":{\"field\":\"top\"}},\"id\":\"9f59936c-582a-42cb-b37f-12d891e7bafe\",\"type\":\"Quad\"},{\"attributes\":{},\"id\":\"01714c53-7968-427c-92fe-eaf30d8cb92d\",\"type\":\"ToolEvents\"},{\"attributes\":{\"plot\":{\"id\":\"8dde3cee-b04b-4ebc-a58f-f0b6b74aa07a\",\"subtype\":\"Figure\",\"type\":\"Plot\"},\"ticker\":{\"id\":\"e7e79c55-fe4a-4933-a4f1-03b33594da2a\",\"type\":\"BasicTicker\"}},\"id\":\"abfb8ee8-31ef-4185-ab2f-8983da560fa4\",\"type\":\"Grid\"},{\"attributes\":{},\"id\":\"23dee1a2-c4c6-4e38-931d-04d8b8cb54df\",\"type\":\"LinearScale\"},{\"attributes\":{\"data_source\":{\"id\":\"a8070a57-6a1b-446e-8b7e-92bf37be65c6\",\"type\":\"ColumnDataSource\"},\"glyph\":{\"id\":\"9f59936c-582a-42cb-b37f-12d891e7bafe\",\"type\":\"Quad\"},\"hover_glyph\":null,\"muted_glyph\":null,\"nonselection_glyph\":{\"id\":\"ebc065f5-a197-4be4-9ad7-e709dd8752da\",\"type\":\"Quad\"},\"selection_glyph\":null},\"id\":\"fbb82740-27ca-4ca9-af02-b1bf9fc68baf\",\"type\":\"GlyphRenderer\"},{\"attributes\":{\"plot\":{\"id\":\"8dde3cee-b04b-4ebc-a58f-f0b6b74aa07a\",\"subtype\":\"Figure\",\"type\":\"Plot\"}},\"id\":\"d97b5fad-cf63-47ef-80be-dfa191b5c59b\",\"type\":\"PanTool\"},{\"attributes\":{\"plot\":null,\"text\":\"Top-1000 words distribution\"},\"id\":\"eef3378f-2373-4955-bf97-4ce41bd7b061\",\"type\":\"Title\"},{\"attributes\":{\"plot\":{\"id\":\"8dde3cee-b04b-4ebc-a58f-f0b6b74aa07a\",\"subtype\":\"Figure\",\"type\":\"Plot\"}},\"id\":\"2be35d1e-e426-456e-ae31-2a0d2d8d040a\",\"type\":\"WheelZoomTool\"},{\"attributes\":{\"formatter\":{\"id\":\"1be94b19-d09c-42af-99fb-a66245ce87ae\",\"type\":\"BasicTickFormatter\"},\"plot\":{\"id\":\"8dde3cee-b04b-4ebc-a58f-f0b6b74aa07a\",\"subtype\":\"Figure\",\"type\":\"Plot\"},\"ticker\":{\"id\":\"e7e79c55-fe4a-4933-a4f1-03b33594da2a\",\"type\":\"BasicTicker\"}},\"id\":\"27bca4dd-963f-45a1-b010-66b9b3c58c6c\",\"type\":\"LinearAxis\"},{\"attributes\":{\"plot\":{\"id\":\"8dde3cee-b04b-4ebc-a58f-f0b6b74aa07a\",\"subtype\":\"Figure\",\"type\":\"Plot\"}},\"id\":\"444a5fdc-acc6-42a9-817b-f2f3edf51cb5\",\"type\":\"ResetTool\"},{\"attributes\":{\"formatter\":{\"id\":\"7ce5b2e0-2da3-4d13-ac67-795ea61720ee\",\"type\":\"BasicTickFormatter\"},\"plot\":{\"id\":\"8dde3cee-b04b-4ebc-a58f-f0b6b74aa07a\",\"subtype\":\"Figure\",\"type\":\"Plot\"},\"ticker\":{\"id\":\"3d31ed53-d0f9-4dd7-9655-3911fbac42e8\",\"type\":\"BasicTicker\"}},\"id\":\"f6d274c5-5768-4001-8f82-bcaa92fd3e2b\",\"type\":\"LinearAxis\"},{\"attributes\":{},\"id\":\"5c73fefc-9b53-4f2b-a932-fd7d16f0d12a\",\"type\":\"LinearScale\"},{\"attributes\":{\"dimension\":1,\"plot\":{\"id\":\"8dde3cee-b04b-4ebc-a58f-f0b6b74aa07a\",\"subtype\":\"Figure\",\"type\":\"Plot\"},\"ticker\":{\"id\":\"3d31ed53-d0f9-4dd7-9655-3911fbac42e8\",\"type\":\"BasicTicker\"}},\"id\":\"d4277926-c6c7-4be7-903a-4e0b7726b374\",\"type\":\"Grid\"},{\"attributes\":{\"plot\":{\"id\":\"8dde3cee-b04b-4ebc-a58f-f0b6b74aa07a\",\"subtype\":\"Figure\",\"type\":\"Plot\"}},\"id\":\"7643be8b-d772-43d1-b26e-d7120be901e8\",\"type\":\"SaveTool\"},{\"attributes\":{\"bottom\":{\"value\":0},\"fill_alpha\":{\"value\":0.1},\"fill_color\":{\"value\":\"#1f77b4\"},\"left\":{\"field\":\"left\"},\"line_alpha\":{\"value\":0.1},\"line_color\":{\"value\":\"#1f77b4\"},\"right\":{\"field\":\"right\"},\"top\":{\"field\":\"top\"}},\"id\":\"ebc065f5-a197-4be4-9ad7-e709dd8752da\",\"type\":\"Quad\"},{\"attributes\":{},\"id\":\"1be94b19-d09c-42af-99fb-a66245ce87ae\",\"type\":\"BasicTickFormatter\"},{\"attributes\":{\"active_drag\":\"auto\",\"active_inspect\":\"auto\",\"active_scroll\":\"auto\",\"active_tap\":\"auto\",\"tools\":[{\"id\":\"d97b5fad-cf63-47ef-80be-dfa191b5c59b\",\"type\":\"PanTool\"},{\"id\":\"2be35d1e-e426-456e-ae31-2a0d2d8d040a\",\"type\":\"WheelZoomTool\"},{\"id\":\"444a5fdc-acc6-42a9-817b-f2f3edf51cb5\",\"type\":\"ResetTool\"},{\"id\":\"7643be8b-d772-43d1-b26e-d7120be901e8\",\"type\":\"SaveTool\"}]},\"id\":\"05cda2ae-74b2-479d-b432-3cf8c603bf13\",\"type\":\"Toolbar\"},{\"attributes\":{\"callback\":null},\"id\":\"6245f982-0c41-489e-a1f3-4f3fe14af34a\",\"type\":\"DataRange1d\"},{\"attributes\":{},\"id\":\"e7e79c55-fe4a-4933-a4f1-03b33594da2a\",\"type\":\"BasicTicker\"},{\"attributes\":{\"below\":[{\"id\":\"27bca4dd-963f-45a1-b010-66b9b3c58c6c\",\"type\":\"LinearAxis\"}],\"left\":[{\"id\":\"f6d274c5-5768-4001-8f82-bcaa92fd3e2b\",\"type\":\"LinearAxis\"}],\"renderers\":[{\"id\":\"27bca4dd-963f-45a1-b010-66b9b3c58c6c\",\"type\":\"LinearAxis\"},{\"id\":\"abfb8ee8-31ef-4185-ab2f-8983da560fa4\",\"type\":\"Grid\"},{\"id\":\"f6d274c5-5768-4001-8f82-bcaa92fd3e2b\",\"type\":\"LinearAxis\"},{\"id\":\"d4277926-c6c7-4be7-903a-4e0b7726b374\",\"type\":\"Grid\"},{\"id\":\"fbb82740-27ca-4ca9-af02-b1bf9fc68baf\",\"type\":\"GlyphRenderer\"}],\"title\":{\"id\":\"eef3378f-2373-4955-bf97-4ce41bd7b061\",\"type\":\"Title\"},\"tool_events\":{\"id\":\"01714c53-7968-427c-92fe-eaf30d8cb92d\",\"type\":\"ToolEvents\"},\"toolbar\":{\"id\":\"05cda2ae-74b2-479d-b432-3cf8c603bf13\",\"type\":\"Toolbar\"},\"toolbar_location\":\"above\",\"x_range\":{\"id\":\"6245f982-0c41-489e-a1f3-4f3fe14af34a\",\"type\":\"DataRange1d\"},\"x_scale\":{\"id\":\"23dee1a2-c4c6-4e38-931d-04d8b8cb54df\",\"type\":\"LinearScale\"},\"y_range\":{\"id\":\"751cf2ad-3aa0-464b-852c-9f844d26f12b\",\"type\":\"DataRange1d\"},\"y_scale\":{\"id\":\"5c73fefc-9b53-4f2b-a932-fd7d16f0d12a\",\"type\":\"LinearScale\"}},\"id\":\"8dde3cee-b04b-4ebc-a58f-f0b6b74aa07a\",\"subtype\":\"Figure\",\"type\":\"Plot\"},{\"attributes\":{},\"id\":\"7ce5b2e0-2da3-4d13-ac67-795ea61720ee\",\"type\":\"BasicTickFormatter\"},{\"attributes\":{},\"id\":\"3d31ed53-d0f9-4dd7-9655-3911fbac42e8\",\"type\":\"BasicTicker\"}],\"root_ids\":[\"8dde3cee-b04b-4ebc-a58f-f0b6b74aa07a\"]},\"title\":\"Bokeh Application\",\"version\":\"0.12.6\"}};\n",
       "            var render_items = [{\"docid\":\"838d8f40-b059-42e4-ac18-0bd95d54315a\",\"elementid\":\"bb3a1ccc-d187-40ed-be0c-f4ea5c5c431f\",\"modelid\":\"8dde3cee-b04b-4ebc-a58f-f0b6b74aa07a\"}];\n",
       "            \n",
       "            Bokeh.embed.embed_items(docs_json, render_items);\n",
       "          };\n",
       "          if (document.readyState != \"loading\") fn();\n",
       "          else document.addEventListener(\"DOMContentLoaded\", fn);\n",
       "        })();\n",
       "      },\n",
       "      function(Bokeh) {\n",
       "      }\n",
       "    ];\n",
       "  \n",
       "    function run_inline_js() {\n",
       "      \n",
       "      if ((window.Bokeh !== undefined) || (force === true)) {\n",
       "        for (var i = 0; i < inline_js.length; i++) {\n",
       "          inline_js[i](window.Bokeh);\n",
       "        }if (force === true) {\n",
       "          display_loaded();\n",
       "        }} else if (Date.now() < window._bokeh_timeout) {\n",
       "        setTimeout(run_inline_js, 100);\n",
       "      } else if (!window._bokeh_failed_load) {\n",
       "        console.log(\"Bokeh: BokehJS failed to load within specified timeout.\");\n",
       "        window._bokeh_failed_load = true;\n",
       "      } else if (force !== true) {\n",
       "        var cell = $(document.getElementById(\"bb3a1ccc-d187-40ed-be0c-f4ea5c5c431f\")).parents('.cell').data().cell;\n",
       "        cell.output_area.append_execute_result(NB_LOAD_WARNING)\n",
       "      }\n",
       "  \n",
       "    }\n",
       "  \n",
       "    if (window._bokeh_is_loading === 0) {\n",
       "      console.log(\"Bokeh: BokehJS loaded, going straight to plotting\");\n",
       "      run_inline_js();\n",
       "    } else {\n",
       "      load_libs(js_urls, function() {\n",
       "        console.log(\"Bokeh: BokehJS plotting callback run at\", now());\n",
       "        run_inline_js();\n",
       "      });\n",
       "    }\n",
       "  }(this));\n",
       "</script>"
      ]
     },
     "metadata": {},
     "output_type": "display_data"
    }
   ],
   "source": [
    "hist, edges = np.histogram(counts_ted_top1000, density=True, bins=100, normed=True)\n",
    "\n",
    "p = figure(tools=\"pan,wheel_zoom,reset,save\",\n",
    "           toolbar_location=\"above\",\n",
    "           title=\"Top-1000 words distribution\")\n",
    "p.quad(top=hist, bottom=0, left=edges[:-1], right=edges[1:], line_color=\"#555555\")\n",
    "show(p)"
   ]
  },
  {
   "cell_type": "markdown",
   "metadata": {},
   "source": [
    "### Part 3: Train Word2Vec"
   ]
  },
  {
   "cell_type": "code",
   "execution_count": 27,
   "metadata": {
    "collapsed": false
   },
   "outputs": [],
   "source": [
    "from gensim.models import Word2Vec"
   ]
  },
  {
   "cell_type": "code",
   "execution_count": 28,
   "metadata": {
    "collapsed": false
   },
   "outputs": [],
   "source": [
    "model_ted = Word2Vec(sentences_ted)"
   ]
  },
  {
   "cell_type": "markdown",
   "metadata": {},
   "source": [
    "### Part 4: Ted Learnt Representations"
   ]
  },
  {
   "cell_type": "markdown",
   "metadata": {},
   "source": [
    "Finding similar words: (see gensim docs for more functionality of `most_similar`)"
   ]
  },
  {
   "cell_type": "code",
   "execution_count": 29,
   "metadata": {
    "collapsed": false
   },
   "outputs": [
    {
     "data": {
      "text/plain": [
       "[(u'woman', 0.8542443513870239),\n",
       " (u'guy', 0.8041839599609375),\n",
       " (u'lady', 0.7663949728012085),\n",
       " (u'gentleman', 0.7477983832359314),\n",
       " (u'girl', 0.744347095489502),\n",
       " (u'boy', 0.7361282706260681),\n",
       " (u'soldier', 0.7302199602127075),\n",
       " (u'poet', 0.7073552012443542),\n",
       " (u'kid', 0.6927727460861206),\n",
       " (u'rabbi', 0.6856594085693359)]"
      ]
     },
     "execution_count": 29,
     "metadata": {},
     "output_type": "execute_result"
    }
   ],
   "source": [
    "model_ted.most_similar(\"man\")"
   ]
  },
  {
   "cell_type": "code",
   "execution_count": 31,
   "metadata": {
    "collapsed": false
   },
   "outputs": [
    {
     "data": {
      "text/plain": [
       "[(u'machine', 0.7375736832618713),\n",
       " (u'software', 0.727624773979187),\n",
       " (u'robot', 0.7090486288070679),\n",
       " (u'device', 0.6905626058578491),\n",
       " (u'3d', 0.6776372194290161),\n",
       " (u'camera', 0.6670147776603699),\n",
       " (u'chip', 0.6446322202682495),\n",
       " (u'desktop', 0.6366283893585205),\n",
       " (u'interface', 0.6313588619232178),\n",
       " (u'program', 0.6295859813690186)]"
      ]
     },
     "execution_count": 31,
     "metadata": {},
     "output_type": "execute_result"
    }
   ],
   "source": [
    "model_ted.most_similar(\"computer\")"
   ]
  },
  {
   "cell_type": "markdown",
   "metadata": {},
   "source": [
    "#### t-SNE visualization\n",
    "To use the t-SNE code below, first put a list of the top 1000 words (as strings) into a variable `words_top_ted`. The following code gets the corresponding vectors from the model, assuming it's called `model_ted`:"
   ]
  },
  {
   "cell_type": "code",
   "execution_count": 33,
   "metadata": {
    "collapsed": false
   },
   "outputs": [],
   "source": [
    "# This assumes words_top_ted is a list of strings, the top 1000 words\n",
    "words_top_vec_ted = model_ted[words_top_ted]"
   ]
  },
  {
   "cell_type": "code",
   "execution_count": 34,
   "metadata": {
    "collapsed": false
   },
   "outputs": [],
   "source": [
    "from sklearn.manifold import TSNE\n",
    "tsne = TSNE(n_components=2, random_state=0)\n",
    "words_top_ted_tsne = tsne.fit_transform(words_top_vec_ted)"
   ]
  },
  {
   "cell_type": "code",
   "execution_count": 38,
   "metadata": {
    "collapsed": false
   },
   "outputs": [
    {
     "data": {
      "text/html": [
       "\n",
       "\n",
       "    <div class=\"bk-root\">\n",
       "        <div class=\"bk-plotdiv\" id=\"757f250a-efa8-4bce-8267-eeeeade4afa7\"></div>\n",
       "    </div>\n",
       "<script type=\"text/javascript\">\n",
       "  \n",
       "  (function(global) {\n",
       "    function now() {\n",
       "      return new Date();\n",
       "    }\n",
       "  \n",
       "    var force = false;\n",
       "  \n",
       "    if (typeof (window._bokeh_onload_callbacks) === \"undefined\" || force === true) {\n",
       "      window._bokeh_onload_callbacks = [];\n",
       "      window._bokeh_is_loading = undefined;\n",
       "    }\n",
       "  \n",
       "  \n",
       "    \n",
       "    if (typeof (window._bokeh_timeout) === \"undefined\" || force === true) {\n",
       "      window._bokeh_timeout = Date.now() + 0;\n",
       "      window._bokeh_failed_load = false;\n",
       "    }\n",
       "  \n",
       "    var NB_LOAD_WARNING = {'data': {'text/html':\n",
       "       \"<div style='background-color: #fdd'>\\n\"+\n",
       "       \"<p>\\n\"+\n",
       "       \"BokehJS does not appear to have successfully loaded. If loading BokehJS from CDN, this \\n\"+\n",
       "       \"may be due to a slow or bad network connection. Possible fixes:\\n\"+\n",
       "       \"</p>\\n\"+\n",
       "       \"<ul>\\n\"+\n",
       "       \"<li>re-rerun `output_notebook()` to attempt to load from CDN again, or</li>\\n\"+\n",
       "       \"<li>use INLINE resources instead, as so:</li>\\n\"+\n",
       "       \"</ul>\\n\"+\n",
       "       \"<code>\\n\"+\n",
       "       \"from bokeh.resources import INLINE\\n\"+\n",
       "       \"output_notebook(resources=INLINE)\\n\"+\n",
       "       \"</code>\\n\"+\n",
       "       \"</div>\"}};\n",
       "  \n",
       "    function display_loaded() {\n",
       "      if (window.Bokeh !== undefined) {\n",
       "        var el = document.getElementById(\"757f250a-efa8-4bce-8267-eeeeade4afa7\");\n",
       "        el.textContent = \"BokehJS \" + Bokeh.version + \" successfully loaded.\";\n",
       "      } else if (Date.now() < window._bokeh_timeout) {\n",
       "        setTimeout(display_loaded, 100)\n",
       "      }\n",
       "    }\n",
       "  \n",
       "    function run_callbacks() {\n",
       "      try {\n",
       "        window._bokeh_onload_callbacks.forEach(function(callback) { callback() });\n",
       "      }\n",
       "      finally {\n",
       "        delete window._bokeh_onload_callbacks\n",
       "      }\n",
       "      console.info(\"Bokeh: all callbacks have finished\");\n",
       "    }\n",
       "  \n",
       "    function load_libs(js_urls, callback) {\n",
       "      window._bokeh_onload_callbacks.push(callback);\n",
       "      if (window._bokeh_is_loading > 0) {\n",
       "        console.log(\"Bokeh: BokehJS is being loaded, scheduling callback at\", now());\n",
       "        return null;\n",
       "      }\n",
       "      if (js_urls == null || js_urls.length === 0) {\n",
       "        run_callbacks();\n",
       "        return null;\n",
       "      }\n",
       "      console.log(\"Bokeh: BokehJS not loaded, scheduling load and callback at\", now());\n",
       "      window._bokeh_is_loading = js_urls.length;\n",
       "      for (var i = 0; i < js_urls.length; i++) {\n",
       "        var url = js_urls[i];\n",
       "        var s = document.createElement('script');\n",
       "        s.src = url;\n",
       "        s.async = false;\n",
       "        s.onreadystatechange = s.onload = function() {\n",
       "          window._bokeh_is_loading--;\n",
       "          if (window._bokeh_is_loading === 0) {\n",
       "            console.log(\"Bokeh: all BokehJS libraries loaded\");\n",
       "            run_callbacks()\n",
       "          }\n",
       "        };\n",
       "        s.onerror = function() {\n",
       "          console.warn(\"failed to load library \" + url);\n",
       "        };\n",
       "        console.log(\"Bokeh: injecting script tag for BokehJS library: \", url);\n",
       "        document.getElementsByTagName(\"head\")[0].appendChild(s);\n",
       "      }\n",
       "    };var element = document.getElementById(\"757f250a-efa8-4bce-8267-eeeeade4afa7\");\n",
       "    if (element == null) {\n",
       "      console.log(\"Bokeh: ERROR: autoload.js configured with elementid '757f250a-efa8-4bce-8267-eeeeade4afa7' but no matching script tag was found. \")\n",
       "      return false;\n",
       "    }\n",
       "  \n",
       "    var js_urls = [];\n",
       "  \n",
       "    var inline_js = [\n",
       "      function(Bokeh) {\n",
       "        (function() {\n",
       "          var fn = function() {\n",
       "            var docs_json = {\"0de77698-640a-4bac-9f8f-fdbd9eb5e7e5\":{\"roots\":{\"references\":[{\"attributes\":{},\"id\":\"41c030fc-14f8-498e-9fb2-69fcb1fb7a18\",\"type\":\"LinearScale\"},{\"attributes\":{\"plot\":{\"id\":\"ad10f9d6-cbe4-4f30-aa49-15fe8d3741ad\",\"subtype\":\"Figure\",\"type\":\"Plot\"}},\"id\":\"bc5c4027-9c96-4e88-b229-345c693b9946\",\"type\":\"SaveTool\"},{\"attributes\":{},\"id\":\"d5ce0d41-08d7-4b46-9689-20e7063b0afd\",\"type\":\"LinearScale\"},{\"attributes\":{\"fill_alpha\":{\"value\":0.1},\"fill_color\":{\"value\":\"#1f77b4\"},\"line_alpha\":{\"value\":0.1},\"line_color\":{\"value\":\"#1f77b4\"},\"size\":{\"units\":\"screen\",\"value\":8},\"x\":{\"field\":\"x1\"},\"y\":{\"field\":\"x2\"}},\"id\":\"89d82697-832a-4775-a79a-5280f6c8dc24\",\"type\":\"Circle\"},{\"attributes\":{},\"id\":\"1319e75e-49ef-4762-9eda-bf45e634ebbc\",\"type\":\"ToolEvents\"},{\"attributes\":{},\"id\":\"7aeed057-8a8d-4e64-ac69-5fe97269df59\",\"type\":\"BasicTickFormatter\"},{\"attributes\":{},\"id\":\"fa354562-b7e2-427c-b9c2-19f0bd0b64ac\",\"type\":\"BasicTicker\"},{\"attributes\":{\"dimension\":1,\"plot\":{\"id\":\"ad10f9d6-cbe4-4f30-aa49-15fe8d3741ad\",\"subtype\":\"Figure\",\"type\":\"Plot\"},\"ticker\":{\"id\":\"fa354562-b7e2-427c-b9c2-19f0bd0b64ac\",\"type\":\"BasicTicker\"}},\"id\":\"853c812b-c312-4377-9d8a-fa39a6112d3d\",\"type\":\"Grid\"},{\"attributes\":{},\"id\":\"df9d0a9e-8324-41c3-86b3-ed4f4801ea4e\",\"type\":\"BasicTickFormatter\"},{\"attributes\":{\"plot\":{\"id\":\"ad10f9d6-cbe4-4f30-aa49-15fe8d3741ad\",\"subtype\":\"Figure\",\"type\":\"Plot\"}},\"id\":\"1c33772e-8834-4ff5-828a-06f1766ba6f2\",\"type\":\"ResetTool\"},{\"attributes\":{\"plot\":{\"id\":\"ad10f9d6-cbe4-4f30-aa49-15fe8d3741ad\",\"subtype\":\"Figure\",\"type\":\"Plot\"},\"source\":{\"id\":\"570c51f5-2bd3-4636-8ee8-f407050497d6\",\"type\":\"ColumnDataSource\"},\"text\":{\"field\":\"names\"},\"text_align\":\"center\",\"text_color\":{\"value\":\"#555555\"},\"text_font_size\":{\"value\":\"8pt\"},\"x\":{\"field\":\"x1\"},\"y\":{\"field\":\"x2\"},\"y_offset\":{\"value\":6}},\"id\":\"1a0b2084-4f89-4b70-aa18-13b9e7c545a4\",\"type\":\"LabelSet\"},{\"attributes\":{\"plot\":null,\"text\":\"word2vec T-SNE for most common words\"},\"id\":\"4eed50a8-01c1-436d-9ac4-bf307a1acde0\",\"type\":\"Title\"},{\"attributes\":{\"formatter\":{\"id\":\"7aeed057-8a8d-4e64-ac69-5fe97269df59\",\"type\":\"BasicTickFormatter\"},\"plot\":{\"id\":\"ad10f9d6-cbe4-4f30-aa49-15fe8d3741ad\",\"subtype\":\"Figure\",\"type\":\"Plot\"},\"ticker\":{\"id\":\"a8b87fa6-e2a6-402f-a856-d7950b2d55f0\",\"type\":\"BasicTicker\"}},\"id\":\"0a78d62a-718f-4538-ad09-6557bddcf910\",\"type\":\"LinearAxis\"},{\"attributes\":{\"plot\":{\"id\":\"ad10f9d6-cbe4-4f30-aa49-15fe8d3741ad\",\"subtype\":\"Figure\",\"type\":\"Plot\"}},\"id\":\"4bc7c247-4545-43d1-8e42-90ede41651e1\",\"type\":\"WheelZoomTool\"},{\"attributes\":{\"active_drag\":\"auto\",\"active_inspect\":\"auto\",\"active_scroll\":\"auto\",\"active_tap\":\"auto\",\"tools\":[{\"id\":\"6b8b6a42-2bb9-4c59-821b-35ee9062757f\",\"type\":\"PanTool\"},{\"id\":\"4bc7c247-4545-43d1-8e42-90ede41651e1\",\"type\":\"WheelZoomTool\"},{\"id\":\"1c33772e-8834-4ff5-828a-06f1766ba6f2\",\"type\":\"ResetTool\"},{\"id\":\"bc5c4027-9c96-4e88-b229-345c693b9946\",\"type\":\"SaveTool\"}]},\"id\":\"0941858f-10a0-4511-a1a0-24bf2228bba0\",\"type\":\"Toolbar\"},{\"attributes\":{},\"id\":\"a8b87fa6-e2a6-402f-a856-d7950b2d55f0\",\"type\":\"BasicTicker\"},{\"attributes\":{\"callback\":null},\"id\":\"83ffa45c-763f-446b-af06-251329e89b42\",\"type\":\"DataRange1d\"},{\"attributes\":{\"formatter\":{\"id\":\"df9d0a9e-8324-41c3-86b3-ed4f4801ea4e\",\"type\":\"BasicTickFormatter\"},\"plot\":{\"id\":\"ad10f9d6-cbe4-4f30-aa49-15fe8d3741ad\",\"subtype\":\"Figure\",\"type\":\"Plot\"},\"ticker\":{\"id\":\"fa354562-b7e2-427c-b9c2-19f0bd0b64ac\",\"type\":\"BasicTicker\"}},\"id\":\"af2ea395-f39c-47d8-a347-213e65248cd1\",\"type\":\"LinearAxis\"},{\"attributes\":{\"data_source\":{\"id\":\"570c51f5-2bd3-4636-8ee8-f407050497d6\",\"type\":\"ColumnDataSource\"},\"glyph\":{\"id\":\"c65d1cd2-8c8a-43a1-9074-1d6516a67cec\",\"type\":\"Circle\"},\"hover_glyph\":null,\"muted_glyph\":null,\"nonselection_glyph\":{\"id\":\"89d82697-832a-4775-a79a-5280f6c8dc24\",\"type\":\"Circle\"},\"selection_glyph\":null},\"id\":\"8665e8ed-398a-4f4d-9fc3-003c462e9ffd\",\"type\":\"GlyphRenderer\"},{\"attributes\":{\"below\":[{\"id\":\"0a78d62a-718f-4538-ad09-6557bddcf910\",\"type\":\"LinearAxis\"}],\"left\":[{\"id\":\"af2ea395-f39c-47d8-a347-213e65248cd1\",\"type\":\"LinearAxis\"}],\"renderers\":[{\"id\":\"0a78d62a-718f-4538-ad09-6557bddcf910\",\"type\":\"LinearAxis\"},{\"id\":\"877e1de3-cd74-4585-8114-016ad0c40344\",\"type\":\"Grid\"},{\"id\":\"af2ea395-f39c-47d8-a347-213e65248cd1\",\"type\":\"LinearAxis\"},{\"id\":\"853c812b-c312-4377-9d8a-fa39a6112d3d\",\"type\":\"Grid\"},{\"id\":\"8665e8ed-398a-4f4d-9fc3-003c462e9ffd\",\"type\":\"GlyphRenderer\"},{\"id\":\"1a0b2084-4f89-4b70-aa18-13b9e7c545a4\",\"type\":\"LabelSet\"}],\"title\":{\"id\":\"4eed50a8-01c1-436d-9ac4-bf307a1acde0\",\"type\":\"Title\"},\"tool_events\":{\"id\":\"1319e75e-49ef-4762-9eda-bf45e634ebbc\",\"type\":\"ToolEvents\"},\"toolbar\":{\"id\":\"0941858f-10a0-4511-a1a0-24bf2228bba0\",\"type\":\"Toolbar\"},\"toolbar_location\":\"above\",\"x_range\":{\"id\":\"b09f9505-b7d9-49e3-b83e-f967553bbfdc\",\"type\":\"DataRange1d\"},\"x_scale\":{\"id\":\"d5ce0d41-08d7-4b46-9689-20e7063b0afd\",\"type\":\"LinearScale\"},\"y_range\":{\"id\":\"83ffa45c-763f-446b-af06-251329e89b42\",\"type\":\"DataRange1d\"},\"y_scale\":{\"id\":\"41c030fc-14f8-498e-9fb2-69fcb1fb7a18\",\"type\":\"LinearScale\"}},\"id\":\"ad10f9d6-cbe4-4f30-aa49-15fe8d3741ad\",\"subtype\":\"Figure\",\"type\":\"Plot\"},{\"attributes\":{\"callback\":null,\"column_names\":[\"x2\",\"x1\",\"names\"],\"data\":{\"names\":[\"the\",\"and\",\"to\",\"of\",\"a\",\"that\",\"i\",\"in\",\"it\",\"you\",\"we\",\"is\",\"s\",\"this\",\"so\",\"they\",\"was\",\"for\",\"are\",\"have\",\"but\",\"what\",\"on\",\"with\",\"can\",\"t\",\"about\",\"there\",\"be\",\"as\",\"at\",\"all\",\"not\",\"do\",\"my\",\"one\",\"re\",\"people\",\"like\",\"if\",\"from\",\"now\",\"our\",\"he\",\"an\",\"just\",\"these\",\"or\",\"when\",\"because\",\"very\",\"me\",\"out\",\"by\",\"them\",\"how\",\"know\",\"up\",\"going\",\"had\",\"more\",\"think\",\"who\",\"were\",\"see\",\"your\",\"their\",\"which\",\"would\",\"here\",\"really\",\"get\",\"ve\",\"then\",\"m\",\"world\",\"us\",\"time\",\"some\",\"has\",\"don\",\"actually\",\"into\",\"way\",\"where\",\"will\",\"years\",\"things\",\"other\",\"no\",\"could\",\"go\",\"well\",\"want\",\"been\",\"make\",\"right\",\"she\",\"said\",\"something\",\"those\",\"first\",\"two\",\"than\",\"much\",\"also\",\"look\",\"new\",\"thing\",\"little\",\"got\",\"back\",\"over\",\"most\",\"say\",\"even\",\"his\",\"life\",\"only\",\"work\",\"many\",\"take\",\"need\",\"did\",\"lot\",\"kind\",\"why\",\"good\",\"around\",\"every\",\"different\",\"down\",\"ll\",\"let\",\"her\",\"through\",\"same\",\"being\",\"come\",\"d\",\"day\",\"year\",\"three\",\"use\",\"doing\",\"put\",\"called\",\"any\",\"today\",\"percent\",\"made\",\"after\",\"thank\",\"tell\",\"great\",\"human\",\"find\",\"didn\",\"fact\",\"talk\",\"change\",\"started\",\"another\",\"idea\",\"big\",\"last\",\"own\",\"before\",\"its\",\"never\",\"should\",\"better\",\"give\",\"thought\",\"went\",\"might\",\"important\",\"000\",\"again\",\"together\",\"able\",\"still\",\"problem\",\"off\",\"next\",\"part\",\"course\",\"system\",\"him\",\"does\",\"each\",\"start\",\"show\",\"long\",\"ago\",\"story\",\"came\",\"brain\",\"few\",\"bit\",\"between\",\"used\",\"place\",\"technology\",\"women\",\"too\",\"old\",\"mean\",\"data\",\"water\",\"looking\",\"question\",\"maybe\",\"found\",\"love\",\"doesn\",\"end\",\"example\",\"10\",\"done\",\"point\",\"four\",\"real\",\"wanted\",\"ever\",\"school\",\"understand\",\"sort\",\"live\",\"call\",\"whole\",\"always\",\"children\",\"trying\",\"may\",\"person\",\"away\",\"believe\",\"feel\",\"try\",\"million\",\"working\",\"help\",\"everything\",\"five\",\"country\",\"thinking\",\"second\",\"using\",\"information\",\"money\",\"means\",\"took\",\"power\",\"times\",\"high\",\"space\",\"number\",\"kids\",\"home\",\"become\",\"create\",\"small\",\"design\",\"making\",\"best\",\"left\",\"getting\",\"future\",\"enough\",\"man\",\"quite\",\"city\",\"without\",\"sense\",\"happened\",\"comes\",\"social\",\"probably\",\"light\",\"less\",\"talking\",\"energy\",\"am\",\"building\",\"science\",\"food\",\"body\",\"told\",\"interesting\",\"half\",\"ask\",\"pretty\",\"play\",\"hard\",\"anything\",\"lives\",\"countries\",\"coming\",\"such\",\"family\",\"stuff\",\"dollars\",\"moment\",\"earth\",\"20\",\"imagine\",\"across\",\"side\",\"saw\",\"while\",\"happen\",\"okay\",\"once\",\"build\",\"having\",\"men\",\"later\",\"experience\",\"makes\",\"asked\",\"living\",\"seen\",\"says\",\"room\",\"hand\",\"simple\",\"health\",\"ways\",\"else\",\"case\",\"yet\",\"almost\",\"young\",\"days\",\"nothing\",\"bad\",\"care\",\"happens\",\"goes\",\"move\",\"states\",\"reason\",\"computer\",\"open\",\"learn\",\"africa\",\"process\",\"inside\",\"someone\",\"six\",\"far\",\"project\",\"mind\",\"remember\",\"single\",\"picture\",\"both\",\"whether\",\"problems\",\"saying\",\"community\",\"basically\",\"already\",\"within\",\"looked\",\"myself\",\"billion\",\"possible\",\"often\",\"business\",\"planet\",\"global\",\"top\",\"everybody\",\"sure\",\"public\",\"set\",\"wrong\",\"car\",\"book\",\"keep\",\"yes\",\"answer\",\"oh\",\"sometimes\",\"hope\",\"true\",\"history\",\"war\",\"guy\",\"child\",\"instead\",\"months\",\"ideas\",\"looks\",\"matter\",\"government\",\"amazing\",\"united\",\"since\",\"bring\",\"age\",\"cells\",\"job\",\"heard\",\"until\",\"face\",\"wasn\",\"100\",\"read\",\"control\",\"isn\",\"research\",\"30\",\"words\",\"u\",\"group\",\"under\",\"self\",\"somebody\",\"built\",\"state\",\"woman\",\"turn\",\"beautiful\",\"friends\",\"line\",\"knew\",\"couple\",\"order\",\"form\",\"yeah\",\"internet\",\"middle\",\"music\",\"piece\",\"nature\",\"head\",\"though\",\"stop\",\"everyone\",\"50\",\"places\",\"video\",\"learned\",\"language\",\"run\",\"night\",\"decided\",\"study\",\"word\",\"cancer\",\"works\",\"taking\",\"became\",\"exactly\",\"species\",\"completely\",\"society\",\"education\",\"against\",\"stories\",\"large\",\"share\",\"level\",\"heart\",\"america\",\"model\",\"questions\",\"gets\",\"mother\",\"god\",\"company\",\"turns\",\"ourselves\",\"happening\",\"hear\",\"art\",\"themselves\",\"must\",\"itself\",\"rather\",\"kinds\",\"students\",\"name\",\"hours\",\"disease\",\"front\",\"house\",\"huge\",\"couldn\",\"created\",\"universe\",\"ok\",\"animals\",\"american\",\"environment\",\"worked\",\"minutes\",\"ones\",\"black\",\"perhaps\",\"1\",\"past\",\"third\",\"along\",\"finally\",\"others\",\"sound\",\"early\",\"game\",\"thousands\",\"century\",\"based\",\"least\",\"per\",\"ted\",\"lots\",\"figure\",\"free\",\"guys\",\"particular\",\"happy\",\"news\",\"learning\",\"entire\",\"won\",\"gave\",\"machine\",\"india\",\"during\",\"systems\",\"air\",\"difference\",\"outside\",\"natural\",\"taken\",\"seven\",\"given\",\"changed\",\"leave\",\"cell\",\"15\",\"close\",\"behind\",\"cities\",\"full\",\"scale\",\"china\",\"difficult\",\"takes\",\"companies\",\"yourself\",\"area\",\"reality\",\"seeing\",\"easy\",\"turned\",\"cost\",\"eyes\",\"team\",\"moving\",\"population\",\"culture\",\"york\",\"hands\",\"whatever\",\"began\",\"needs\",\"terms\",\"image\",\"needed\",\"simply\",\"beginning\",\"father\",\"local\",\"realized\",\"media\",\"parents\",\"death\",\"walk\",\"view\",\"white\",\"market\",\"parts\",\"ocean\",\"economic\",\"eight\",\"powerful\",\"week\",\"known\",\"size\",\"felt\",\"humans\",\"certain\",\"spend\",\"longer\",\"phone\",\"wonderful\",\"cannot\",\"grow\",\"common\",\"center\",\"tried\",\"fish\",\"land\",\"oil\",\"deal\",\"interested\",\"political\",\"red\",\"gone\",\"amount\",\"weeks\",\"spent\",\"opportunity\",\"paper\",\"lost\",\"national\",\"quickly\",\"blue\",\"step\",\"poor\",\"green\",\"buy\",\"wouldn\",\"growth\",\"either\",\"patients\",\"sitting\",\"ability\",\"changes\",\"write\",\"challenge\",\"south\",\"low\",\"friend\",\"growing\",\"field\",\"2\",\"shows\",\"born\",\"rest\",\"climate\",\"40\",\"test\",\"street\",\"surface\",\"incredible\",\"average\",\"morning\",\"physical\",\"value\",\"program\",\"scientists\",\"pay\",\"feeling\",\"met\",\"hundreds\",\"girl\",\"behavior\",\"economy\",\"dna\",\"complex\",\"access\",\"risk\",\"animal\",\"structure\",\"feet\",\"attention\",\"areas\",\"anyone\",\"deep\",\"watch\",\"short\",\"absolutely\",\"brought\",\"speak\",\"bottom\",\"die\",\"numbers\",\"audience\",\"stage\",\"realize\",\"images\",\"law\",\"wrote\",\"understanding\",\"books\",\"knowledge\",\"literally\",\"movement\",\"ground\",\"giving\",\"eat\",\"force\",\"seems\",\"alone\",\"telling\",\"starting\",\"hold\",\"nice\",\"sea\",\"forward\",\"developed\",\"individual\",\"kid\",\"millions\",\"support\",\"miles\",\"tools\",\"running\",\"online\",\"result\",\"act\",\"medical\",\"technologies\",\"north\",\"development\",\"lab\",\"blood\",\"fear\",\"nobody\",\"map\",\"personal\",\"voice\",\"issue\",\"key\",\"material\",\"recently\",\"12\",\"theory\",\"cut\",\"cars\",\"sun\",\"fast\",\"changing\",\"playing\",\"clear\",\"especially\",\"girls\",\"soon\",\"patient\",\"choice\",\"fly\",\"creating\",\"discovered\",\"talked\",\"relationship\",\"europe\",\"normal\",\"gives\",\"generation\",\"dark\",\"type\",\"showed\",\"asking\",\"industry\",\"seem\",\"chance\",\"rate\",\"hour\",\"designed\",\"fun\",\"color\",\"issues\",\"university\",\"several\",\"computers\",\"innovation\",\"class\",\"tiny\",\"english\",\"save\",\"allow\",\"focus\",\"developing\",\"digital\",\"solve\",\"film\",\"network\",\"special\",\"wall\",\"situation\",\"baby\",\"solution\",\"box\",\"reasons\",\"knows\",\"meet\",\"stand\",\"dead\",\"begin\",\"impact\",\"haven\",\"anybody\",\"term\",\"pictures\",\"beyond\",\"please\",\"produce\",\"ice\",\"shape\",\"non\",\"resources\",\"robot\",\"cool\",\"stay\",\"likely\",\"groups\",\"rights\",\"available\",\"truth\",\"major\",\"obviously\",\"evidence\",\"experiment\",\"cause\",\"writing\",\"drug\",\"modern\",\"incredibly\",\"becomes\",\"bigger\",\"guess\",\"aren\",\"nine\",\"product\",\"drugs\",\"lived\",\"involved\",\"perfect\",\"month\",\"google\",\"similar\",\"putting\",\"effect\",\"pick\",\"eye\",\"message\",\"web\",\"quality\",\"violence\",\"security\",\"evolution\",\"office\",\"basic\",\"indeed\",\"general\",\"solar\",\"towards\",\"drive\",\"present\",\"worth\",\"listen\",\"send\",\"revolution\",\"hundred\",\"explain\",\"died\",\"certainly\",\"ready\",\"teach\",\"journey\",\"25\",\"walking\",\"hit\",\"led\",\"international\",\"approach\",\"200\",\"games\",\"scientific\",\"60\",\"crazy\",\"potential\",\"chinese\",\"communities\",\"device\",\"camera\",\"source\",\"carbon\",\"sex\",\"rules\",\"sounds\",\"boy\",\"reach\",\"starts\",\"west\",\"examples\",\"3\",\"success\",\"software\",\"measure\",\"particularly\",\"totally\",\"suddenly\",\"action\",\"higher\",\"college\",\"code\",\"eventually\",\"democracy\",\"minute\",\"among\",\"sit\",\"largest\",\"showing\",\"hospital\",\"period\",\"notice\",\"mass\",\"develop\",\"dream\",\"onto\",\"add\",\"plants\",\"break\",\"memory\",\"zero\",\"everywhere\",\"11\",\"favorite\",\"speed\",\"moved\",\"schools\",\"response\",\"wants\",\"individuals\",\"table\",\"extremely\",\"movie\",\"wait\",\"anyway\",\"follow\",\"medicine\",\"trust\",\"biggest\",\"plant\",\"watching\",\"organization\",\"creative\",\"road\",\"worse\",\"choose\",\"results\",\"500\",\"lead\",\"exciting\",\"grew\",\"materials\",\"jobs\",\"positive\",\"plan\",\"poverty\",\"east\",\"safe\",\"strong\",\"fall\",\"essentially\",\"door\",\"object\",\"vision\",\"son\",\"continue\",\"further\",\"happiness\",\"student\",\"doctor\",\"role\",\"including\",\"named\",\"objects\",\"extraordinary\",\"standing\",\"skin\",\"leaders\",\"usually\",\"projects\",\"african\",\"conversation\",\"models\",\"allowed\",\"supposed\",\"interest\",\"faster\",\"police\",\"families\",\"fight\",\"tree\",\"connected\",\"cases\",\"screen\",\"5\",\"somewhere\",\"goal\",\"shown\",\"buildings\",\"finding\"],\"x1\":{\"__ndarray__\":\"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\",\"dtype\":\"float64\",\"shape\":[1000]},\"x2\":{\"__ndarray__\":\"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\",\"dtype\":\"float64\",\"shape\":[1000]}}},\"id\":\"570c51f5-2bd3-4636-8ee8-f407050497d6\",\"type\":\"ColumnDataSource\"},{\"attributes\":{\"callback\":null},\"id\":\"b09f9505-b7d9-49e3-b83e-f967553bbfdc\",\"type\":\"DataRange1d\"},{\"attributes\":{\"plot\":{\"id\":\"ad10f9d6-cbe4-4f30-aa49-15fe8d3741ad\",\"subtype\":\"Figure\",\"type\":\"Plot\"}},\"id\":\"6b8b6a42-2bb9-4c59-821b-35ee9062757f\",\"type\":\"PanTool\"},{\"attributes\":{\"plot\":{\"id\":\"ad10f9d6-cbe4-4f30-aa49-15fe8d3741ad\",\"subtype\":\"Figure\",\"type\":\"Plot\"},\"ticker\":{\"id\":\"a8b87fa6-e2a6-402f-a856-d7950b2d55f0\",\"type\":\"BasicTicker\"}},\"id\":\"877e1de3-cd74-4585-8114-016ad0c40344\",\"type\":\"Grid\"},{\"attributes\":{\"fill_color\":{\"value\":\"#1f77b4\"},\"line_color\":{\"value\":\"#1f77b4\"},\"size\":{\"units\":\"screen\",\"value\":8},\"x\":{\"field\":\"x1\"},\"y\":{\"field\":\"x2\"}},\"id\":\"c65d1cd2-8c8a-43a1-9074-1d6516a67cec\",\"type\":\"Circle\"}],\"root_ids\":[\"ad10f9d6-cbe4-4f30-aa49-15fe8d3741ad\"]},\"title\":\"Bokeh Application\",\"version\":\"0.12.6\"}};\n",
       "            var render_items = [{\"docid\":\"0de77698-640a-4bac-9f8f-fdbd9eb5e7e5\",\"elementid\":\"757f250a-efa8-4bce-8267-eeeeade4afa7\",\"modelid\":\"ad10f9d6-cbe4-4f30-aa49-15fe8d3741ad\"}];\n",
       "            \n",
       "            Bokeh.embed.embed_items(docs_json, render_items);\n",
       "          };\n",
       "          if (document.readyState != \"loading\") fn();\n",
       "          else document.addEventListener(\"DOMContentLoaded\", fn);\n",
       "        })();\n",
       "      },\n",
       "      function(Bokeh) {\n",
       "      }\n",
       "    ];\n",
       "  \n",
       "    function run_inline_js() {\n",
       "      \n",
       "      if ((window.Bokeh !== undefined) || (force === true)) {\n",
       "        for (var i = 0; i < inline_js.length; i++) {\n",
       "          inline_js[i](window.Bokeh);\n",
       "        }if (force === true) {\n",
       "          display_loaded();\n",
       "        }} else if (Date.now() < window._bokeh_timeout) {\n",
       "        setTimeout(run_inline_js, 100);\n",
       "      } else if (!window._bokeh_failed_load) {\n",
       "        console.log(\"Bokeh: BokehJS failed to load within specified timeout.\");\n",
       "        window._bokeh_failed_load = true;\n",
       "      } else if (force !== true) {\n",
       "        var cell = $(document.getElementById(\"757f250a-efa8-4bce-8267-eeeeade4afa7\")).parents('.cell').data().cell;\n",
       "        cell.output_area.append_execute_result(NB_LOAD_WARNING)\n",
       "      }\n",
       "  \n",
       "    }\n",
       "  \n",
       "    if (window._bokeh_is_loading === 0) {\n",
       "      console.log(\"Bokeh: BokehJS loaded, going straight to plotting\");\n",
       "      run_inline_js();\n",
       "    } else {\n",
       "      load_libs(js_urls, function() {\n",
       "        console.log(\"Bokeh: BokehJS plotting callback run at\", now());\n",
       "        run_inline_js();\n",
       "      });\n",
       "    }\n",
       "  }(this));\n",
       "</script>"
      ]
     },
     "metadata": {},
     "output_type": "display_data"
    }
   ],
   "source": [
    "p = figure(tools=\"pan,wheel_zoom,reset,save\",\n",
    "           toolbar_location=\"above\",\n",
    "           title=\"word2vec T-SNE for most common words\")\n",
    "\n",
    "source = ColumnDataSource(data=dict(x1=words_top_ted_tsne[:,0],\n",
    "                                    x2=words_top_ted_tsne[:,1],\n",
    "                                    names=words_top_ted))\n",
    "\n",
    "p.scatter(x=\"x1\", y=\"x2\", size=8, source=source)\n",
    "\n",
    "labels = LabelSet(x=\"x1\", y=\"x2\", text=\"names\", y_offset=6,\n",
    "                  text_font_size=\"8pt\", text_color=\"#555555\",\n",
    "                  source=source, text_align='center')\n",
    "p.add_layout(labels)\n",
    "\n",
    "show(p)"
   ]
  },
  {
   "cell_type": "markdown",
   "metadata": {},
   "source": [
    "### Part 5: Wiki Learnt Representations"
   ]
  },
  {
   "cell_type": "markdown",
   "metadata": {},
   "source": [
    "Download dataset"
   ]
  },
  {
   "cell_type": "code",
   "execution_count": 74,
   "metadata": {
    "collapsed": true
   },
   "outputs": [],
   "source": [
    "if not os.path.isfile('wikitext-103-raw-v1.zip'):\n",
    "    urllib.urlretrieve(\"https://s3.amazonaws.com/research.metamind.io/wikitext/wikitext-103-raw-v1.zip\", filename=\"wikitext-103-raw-v1.zip\")"
   ]
  },
  {
   "cell_type": "code",
   "execution_count": 75,
   "metadata": {
    "collapsed": false
   },
   "outputs": [],
   "source": [
    "# with zipfile.ZipFile('wikitext-103-raw-v1.zip', 'r') as z:\n",
    "#     input_text = str(z.open('wikitext-103-raw/wiki.train.raw', 'r').read()) # Thanks Robert Bastian"
   ]
  },
  {
   "cell_type": "markdown",
   "metadata": {},
   "source": [
    "Preprocess sentences (note that it's important to remove small sentences for performance)"
   ]
  },
  {
   "cell_type": "code",
   "execution_count": 97,
   "metadata": {
    "collapsed": false
   },
   "outputs": [],
   "source": [
    "with open('wikitext-103-raw/wiki.train.txt') as f:\n",
    "    input_text = f.readlines()"
   ]
  },
  {
   "cell_type": "code",
   "execution_count": 98,
   "metadata": {
    "collapsed": false
   },
   "outputs": [
    {
     "name": "stdout",
     "output_type": "stream",
     "text": [
      "[u' \\n', u' = Valkyria Chronicles III = \\n', u' \\n']\n"
     ]
    }
   ],
   "source": [
    "input_text = [txt.decode('utf-8','ignore') for txt in input_text]\n",
    "print input_text[:3]"
   ]
  },
  {
   "cell_type": "code",
   "execution_count": 99,
   "metadata": {
    "collapsed": false
   },
   "outputs": [],
   "source": [
    "sentences_wiki = []\n",
    "for line in input_text:\n",
    "    s = [x for x in line.split('.') if x and len(x.split()) >= 5]\n",
    "    sentences_wiki.extend(s)\n",
    "    \n",
    "for s_i in range(len(sentences_wiki)):\n",
    "    sentences_wiki[s_i] = re.sub(\"[^a-z]\", \" \", sentences_wiki[s_i].lower())\n",
    "    sentences_wiki[s_i] = re.sub(r'\\([^)]*\\)', '', sentences_wiki[s_i])\n",
    "del input_text"
   ]
  },
  {
   "cell_type": "code",
   "execution_count": 101,
   "metadata": {
    "collapsed": false
   },
   "outputs": [
    {
     "name": "stdout",
     "output_type": "stream",
     "text": [
      "4267112\n",
      "853422\n"
     ]
    }
   ],
   "source": [
    "# sample 1/5 of the data\n",
    "shuffle(sentences_wiki)\n",
    "print(len(sentences_wiki))\n",
    "sentences_wiki = sentences_wiki[:int(len(sentences_wiki)/5)]\n",
    "print(len(sentences_wiki))"
   ]
  },
  {
   "cell_type": "markdown",
   "metadata": {},
   "source": [
    "Now, repeat all the same steps that you performed above. You should be able to reuse essentially all the code."
   ]
  },
  {
   "cell_type": "code",
   "execution_count": 108,
   "metadata": {
    "collapsed": true
   },
   "outputs": [],
   "source": [
    "from collections import Counter\n",
    "word_counter = Counter([w for sen in sentences_wiki for w in sen.split()])\n",
    "\n",
    "counts_wiki_top1000 = [pair[1] for pair in word_counter.most_common(1000)]\n",
    "\n",
    "words_top_wiki = [pair[0] for pair in word_counter.most_common(1000)]"
   ]
  },
  {
   "cell_type": "code",
   "execution_count": 109,
   "metadata": {
    "collapsed": false
   },
   "outputs": [
    {
     "data": {
      "text/html": [
       "\n",
       "\n",
       "    <div class=\"bk-root\">\n",
       "        <div class=\"bk-plotdiv\" id=\"48927abd-a686-4152-acf1-ba73a6861784\"></div>\n",
       "    </div>\n",
       "<script type=\"text/javascript\">\n",
       "  \n",
       "  (function(global) {\n",
       "    function now() {\n",
       "      return new Date();\n",
       "    }\n",
       "  \n",
       "    var force = false;\n",
       "  \n",
       "    if (typeof (window._bokeh_onload_callbacks) === \"undefined\" || force === true) {\n",
       "      window._bokeh_onload_callbacks = [];\n",
       "      window._bokeh_is_loading = undefined;\n",
       "    }\n",
       "  \n",
       "  \n",
       "    \n",
       "    if (typeof (window._bokeh_timeout) === \"undefined\" || force === true) {\n",
       "      window._bokeh_timeout = Date.now() + 0;\n",
       "      window._bokeh_failed_load = false;\n",
       "    }\n",
       "  \n",
       "    var NB_LOAD_WARNING = {'data': {'text/html':\n",
       "       \"<div style='background-color: #fdd'>\\n\"+\n",
       "       \"<p>\\n\"+\n",
       "       \"BokehJS does not appear to have successfully loaded. If loading BokehJS from CDN, this \\n\"+\n",
       "       \"may be due to a slow or bad network connection. Possible fixes:\\n\"+\n",
       "       \"</p>\\n\"+\n",
       "       \"<ul>\\n\"+\n",
       "       \"<li>re-rerun `output_notebook()` to attempt to load from CDN again, or</li>\\n\"+\n",
       "       \"<li>use INLINE resources instead, as so:</li>\\n\"+\n",
       "       \"</ul>\\n\"+\n",
       "       \"<code>\\n\"+\n",
       "       \"from bokeh.resources import INLINE\\n\"+\n",
       "       \"output_notebook(resources=INLINE)\\n\"+\n",
       "       \"</code>\\n\"+\n",
       "       \"</div>\"}};\n",
       "  \n",
       "    function display_loaded() {\n",
       "      if (window.Bokeh !== undefined) {\n",
       "        var el = document.getElementById(\"48927abd-a686-4152-acf1-ba73a6861784\");\n",
       "        el.textContent = \"BokehJS \" + Bokeh.version + \" successfully loaded.\";\n",
       "      } else if (Date.now() < window._bokeh_timeout) {\n",
       "        setTimeout(display_loaded, 100)\n",
       "      }\n",
       "    }\n",
       "  \n",
       "    function run_callbacks() {\n",
       "      try {\n",
       "        window._bokeh_onload_callbacks.forEach(function(callback) { callback() });\n",
       "      }\n",
       "      finally {\n",
       "        delete window._bokeh_onload_callbacks\n",
       "      }\n",
       "      console.info(\"Bokeh: all callbacks have finished\");\n",
       "    }\n",
       "  \n",
       "    function load_libs(js_urls, callback) {\n",
       "      window._bokeh_onload_callbacks.push(callback);\n",
       "      if (window._bokeh_is_loading > 0) {\n",
       "        console.log(\"Bokeh: BokehJS is being loaded, scheduling callback at\", now());\n",
       "        return null;\n",
       "      }\n",
       "      if (js_urls == null || js_urls.length === 0) {\n",
       "        run_callbacks();\n",
       "        return null;\n",
       "      }\n",
       "      console.log(\"Bokeh: BokehJS not loaded, scheduling load and callback at\", now());\n",
       "      window._bokeh_is_loading = js_urls.length;\n",
       "      for (var i = 0; i < js_urls.length; i++) {\n",
       "        var url = js_urls[i];\n",
       "        var s = document.createElement('script');\n",
       "        s.src = url;\n",
       "        s.async = false;\n",
       "        s.onreadystatechange = s.onload = function() {\n",
       "          window._bokeh_is_loading--;\n",
       "          if (window._bokeh_is_loading === 0) {\n",
       "            console.log(\"Bokeh: all BokehJS libraries loaded\");\n",
       "            run_callbacks()\n",
       "          }\n",
       "        };\n",
       "        s.onerror = function() {\n",
       "          console.warn(\"failed to load library \" + url);\n",
       "        };\n",
       "        console.log(\"Bokeh: injecting script tag for BokehJS library: \", url);\n",
       "        document.getElementsByTagName(\"head\")[0].appendChild(s);\n",
       "      }\n",
       "    };var element = document.getElementById(\"48927abd-a686-4152-acf1-ba73a6861784\");\n",
       "    if (element == null) {\n",
       "      console.log(\"Bokeh: ERROR: autoload.js configured with elementid '48927abd-a686-4152-acf1-ba73a6861784' but no matching script tag was found. \")\n",
       "      return false;\n",
       "    }\n",
       "  \n",
       "    var js_urls = [];\n",
       "  \n",
       "    var inline_js = [\n",
       "      function(Bokeh) {\n",
       "        (function() {\n",
       "          var fn = function() {\n",
       "            var docs_json = {\"b7f0517d-7b5b-4f6c-89fe-3e1e77819bc9\":{\"roots\":{\"references\":[{\"attributes\":{},\"id\":\"726bdcff-a3b0-40dd-b522-c1d17c1d2a03\",\"type\":\"LinearScale\"},{\"attributes\":{\"plot\":{\"id\":\"6a7f198d-2f63-4f0c-bdf3-0b680db25edf\",\"subtype\":\"Figure\",\"type\":\"Plot\"}},\"id\":\"b316a69b-e3db-4cef-aa8c-d2800fb7a89f\",\"type\":\"WheelZoomTool\"},{\"attributes\":{\"formatter\":{\"id\":\"350db05c-622a-4b2c-90ab-c5448840ad60\",\"type\":\"BasicTickFormatter\"},\"plot\":{\"id\":\"6a7f198d-2f63-4f0c-bdf3-0b680db25edf\",\"subtype\":\"Figure\",\"type\":\"Plot\"},\"ticker\":{\"id\":\"62c93430-c6cc-4deb-8718-154122b592ea\",\"type\":\"BasicTicker\"}},\"id\":\"630d886d-cadb-4220-996c-e0e1aa9b2a7f\",\"type\":\"LinearAxis\"},{\"attributes\":{},\"id\":\"d49bd043-9a3e-44f7-84e0-815098aa8cee\",\"type\":\"LinearScale\"},{\"attributes\":{\"active_drag\":\"auto\",\"active_inspect\":\"auto\",\"active_scroll\":\"auto\",\"active_tap\":\"auto\",\"tools\":[{\"id\":\"3bdcdc75-af55-49fd-b1de-42dfe3c8a126\",\"type\":\"PanTool\"},{\"id\":\"b316a69b-e3db-4cef-aa8c-d2800fb7a89f\",\"type\":\"WheelZoomTool\"},{\"id\":\"d21f17f0-b3b1-4200-bf6e-6f3e5b130301\",\"type\":\"ResetTool\"},{\"id\":\"f3f8a424-31f6-4b1c-8164-cb132b63bb48\",\"type\":\"SaveTool\"}]},\"id\":\"6024e30d-78da-42e3-965e-6f88f6b09432\",\"type\":\"Toolbar\"},{\"attributes\":{\"bottom\":{\"value\":0},\"fill_alpha\":{\"value\":0.1},\"fill_color\":{\"value\":\"#1f77b4\"},\"left\":{\"field\":\"left\"},\"line_alpha\":{\"value\":0.1},\"line_color\":{\"value\":\"#1f77b4\"},\"right\":{\"field\":\"right\"},\"top\":{\"field\":\"top\"}},\"id\":\"5454b26c-1c60-47d0-a643-818a2d54e75e\",\"type\":\"Quad\"},{\"attributes\":{\"callback\":null},\"id\":\"64f1d802-be67-4d87-8504-4540f86d027f\",\"type\":\"DataRange1d\"},{\"attributes\":{\"plot\":{\"id\":\"6a7f198d-2f63-4f0c-bdf3-0b680db25edf\",\"subtype\":\"Figure\",\"type\":\"Plot\"}},\"id\":\"d21f17f0-b3b1-4200-bf6e-6f3e5b130301\",\"type\":\"ResetTool\"},{\"attributes\":{\"below\":[{\"id\":\"630d886d-cadb-4220-996c-e0e1aa9b2a7f\",\"type\":\"LinearAxis\"}],\"left\":[{\"id\":\"9c2c1889-3d38-44ba-bff8-b522e887679e\",\"type\":\"LinearAxis\"}],\"renderers\":[{\"id\":\"630d886d-cadb-4220-996c-e0e1aa9b2a7f\",\"type\":\"LinearAxis\"},{\"id\":\"49c95e08-5efc-41d1-bfc7-e10d6401c95d\",\"type\":\"Grid\"},{\"id\":\"9c2c1889-3d38-44ba-bff8-b522e887679e\",\"type\":\"LinearAxis\"},{\"id\":\"0dc776a0-4637-42da-911c-97da04cf7793\",\"type\":\"Grid\"},{\"id\":\"813657cd-0eea-4510-beb7-9bfe2ceec860\",\"type\":\"GlyphRenderer\"}],\"title\":{\"id\":\"2176d3b7-a06d-48af-bb9d-0bdcbe7f0f39\",\"type\":\"Title\"},\"tool_events\":{\"id\":\"2f8fac4d-148c-4baa-bd91-3b1370fc2081\",\"type\":\"ToolEvents\"},\"toolbar\":{\"id\":\"6024e30d-78da-42e3-965e-6f88f6b09432\",\"type\":\"Toolbar\"},\"toolbar_location\":\"above\",\"x_range\":{\"id\":\"64f1d802-be67-4d87-8504-4540f86d027f\",\"type\":\"DataRange1d\"},\"x_scale\":{\"id\":\"d49bd043-9a3e-44f7-84e0-815098aa8cee\",\"type\":\"LinearScale\"},\"y_range\":{\"id\":\"c3f2c42f-9a21-4381-a149-a470df559dbe\",\"type\":\"DataRange1d\"},\"y_scale\":{\"id\":\"726bdcff-a3b0-40dd-b522-c1d17c1d2a03\",\"type\":\"LinearScale\"}},\"id\":\"6a7f198d-2f63-4f0c-bdf3-0b680db25edf\",\"subtype\":\"Figure\",\"type\":\"Plot\"},{\"attributes\":{},\"id\":\"2f8fac4d-148c-4baa-bd91-3b1370fc2081\",\"type\":\"ToolEvents\"},{\"attributes\":{},\"id\":\"62c93430-c6cc-4deb-8718-154122b592ea\",\"type\":\"BasicTicker\"},{\"attributes\":{},\"id\":\"7346644d-a664-4c57-8fe1-048635ca1721\",\"type\":\"BasicTicker\"},{\"attributes\":{\"bottom\":{\"value\":0},\"fill_color\":{\"value\":\"#1f77b4\"},\"left\":{\"field\":\"left\"},\"line_color\":{\"value\":\"#555555\"},\"right\":{\"field\":\"right\"},\"top\":{\"field\":\"top\"}},\"id\":\"60482eb6-10f3-448b-b9bc-73f7b5b2575d\",\"type\":\"Quad\"},{\"attributes\":{\"callback\":null,\"column_names\":[\"top\",\"right\",\"left\"],\"data\":{\"left\":{\"__ndarray__\":\"AAAAAACInUBxPQrXQ8HMQHE9CtfD6NpAFa5H4XK440BxPQrXg/zpQGZmZmZKIPBAFa5H4VJC80DD9ShcW2T2QHE9CtdjhvlAH4XrUWyo/EDNzMzMdMr/QD4K16M+dgFBFa5H4UIHA0HsUbgeR5gEQcP1KFxLKQZBmpmZmU+6B0FxPQrXU0sJQUjhehRY3ApBH4XrUVxtDEH2KFyPYP4NQc3MzMxkjw9BUrgehTSQEEE+CtejtlgRQSlcj8I4IRJBFa5H4brpEkEAAAAAPbITQexRuB6/ehRB16NwPUFDFUHD9ShcwwsWQa5H4XpF1BZBmpmZmcecF0GF61G4SWUYQXE9CtfLLRlBXY/C9U32GUFI4XoU0L4aQTQzMzNShxtBH4XrUdRPHEEL16NwVhgdQfYoXI/Y4B1B4noUrlqpHkHNzMzM3HEfQVyPwnUvHSBBUrgehXCBIEFI4XqUseUgQT4K16PySSFBMzMzszOuIUEpXI/CdBIiQR+F69G1diJBFa5H4fbaIkEL16PwNz8jQQAAAAB5oyNB9ihcD7oHJEHsUbge+2skQeJ6FC480CRB16NwPX00JUHNzMxMvpglQcP1KFz//CVBuR6Fa0BhJkGuR+F6gcUmQaRwPYrCKSdBmpmZmQOOJ0GQwvWoRPInQYXrUbiFVihBexSux8a6KEFxPQrXBx8pQWdmZuZIgylBXY/C9YnnKUFSuB4Fy0sqQUjhehQMsCpBPgrXI00UK0E0MzMzjngrQSlcj0LP3CtBH4XrURBBLEEVrkdhUaUsQQvXo3CSCS1BAAAAgNNtLUH2KFyPFNItQexRuJ5VNi5B4noUrpaaLkHXo3C91/4uQc3MzMwYYy9Bw/Uo3FnHL0Fcj8J1zRUwQdejcP3tRzBBUrgehQ56MEHNzMwML6wwQUjhepRP3jBBw/UoHHAQMUE+CtejkEIxQbkehSuxdDFBMzMzs9GmMUGuR+E68tgxQSlcj8ISCzJBpHA9SjM9MkEfhevRU28yQZqZmVl0oTJBFa5H4ZTTMkGQwvVotQUzQQvXo/DVNzNBhetRePZpM0E=\",\"dtype\":\"float64\",\"shape\":[100]},\"right\":{\"__ndarray__\":\"cT0K10PBzEBxPQrXw+jaQBWuR+FyuONAcT0K14P86UBmZmZmSiDwQBWuR+FSQvNAw/UoXFtk9kBxPQrXY4b5QB+F61FsqPxAzczMzHTK/0A+CtejPnYBQRWuR+FCBwNB7FG4HkeYBEHD9ShcSykGQZqZmZlPugdBcT0K11NLCUFI4XoUWNwKQR+F61FcbQxB9ihcj2D+DUHNzMzMZI8PQVK4HoU0kBBBPgrXo7ZYEUEpXI/COCESQRWuR+G66RJBAAAAAD2yE0HsUbgev3oUQdejcD1BQxVBw/UoXMMLFkGuR+F6RdQWQZqZmZnHnBdBhetRuEllGEFxPQrXyy0ZQV2PwvVN9hlBSOF6FNC+GkE0MzMzUocbQR+F61HUTxxBC9ejcFYYHUH2KFyP2OAdQeJ6FK5aqR5BzczMzNxxH0Fcj8J1Lx0gQVK4HoVwgSBBSOF6lLHlIEE+Ctej8kkhQTMzM7MzriFBKVyPwnQSIkEfhevRtXYiQRWuR+H22iJBC9ej8Dc/I0EAAAAAeaMjQfYoXA+6ByRB7FG4HvtrJEHiehQuPNAkQdejcD19NCVBzczMTL6YJUHD9Shc//wlQbkehWtAYSZBrkfheoHFJkGkcD2KwiknQZqZmZkDjidBkML1qETyJ0GF61G4hVYoQXsUrsfGuihBcT0K1wcfKUFnZmbmSIMpQV2PwvWJ5ylBUrgeBctLKkFI4XoUDLAqQT4K1yNNFCtBNDMzM454K0EpXI9Cz9wrQR+F61EQQSxBFa5HYVGlLEEL16NwkgktQQAAAIDTbS1B9ihcjxTSLUHsUbieVTYuQeJ6FK6Wmi5B16Nwvdf+LkHNzMzMGGMvQcP1KNxZxy9BXI/Cdc0VMEHXo3D97UcwQVK4HoUOejBBzczMDC+sMEFI4XqUT94wQcP1KBxwEDFBPgrXo5BCMUG5HoUrsXQxQTMzM7PRpjFBrkfhOvLYMUEpXI/CEgsyQaRwPUozPTJBH4Xr0VNvMkGamZlZdKEyQRWuR+GU0zJBkML1aLUFM0EL16Pw1TczQYXrUXj2aTNBAAAAABecM0E=\",\"dtype\":\"float64\",\"shape\":[100]},\"top\":{\"__ndarray__\":\"mKE1JP7FEj84efyxfIjHPvn5w4EZ67Q+efg04t8lmj789qVCpmCPPvT5w4EZ63Q++vnDgRnrhD76+cOBGeuUPgAAAAAAAAAA+vnDgRnrhD70+cOBGeuEPvr5w4EZ64Q++vnDgRnrdD4AAAAAAAAAAAAAAAAAAAAAAAAAAAAAAAD6+cOBGet0PgAAAAAAAAAAAAAAAAAAAAAAAAAAAAAAAAAAAAAAAAAAAAAAAAAAAAAAAAAAAAAAAAAAAAAAAAAAAAAAAAAAAAAAAAAAAAAAAAAAAAAAAAAA7fnDgRnrdD4AAAAAAAAAAAAAAAAAAAAAB/rDgRnrdD4AAAAAAAAAAAAAAAAAAAAAB/rDgRnrdD4AAAAAAAAAAAAAAAAAAAAAAAAAAAAAAAAAAAAAAAAAAO35w4EZ63Q+AAAAAAAAAAAAAAAAAAAAAAAAAAAAAAAA7fnDgRnrdD4AAAAAAAAAAAAAAAAAAAAAAAAAAAAAAAAAAAAAAAAAAAAAAAAAAAAAAAAAAAAAAAAAAAAAAAAAAAAAAAAAAAAAAAAAAAAAAAAAAAAAAAAAAAAAAAAAAAAAAAAAAAAAAAAAAAAAAAAAAAAAAAAAAAAAAAAAAAAAAAAAAAAAAAAAAAAAAAAAAAAAAAAAAAAAAAAAAAAAAAAAAAAAAAAAAAAAAAAAAAAAAAAAAAAAAAAAAAAAAAAAAAAAAAAAAAAAAAAAAAAAAAAAAAAAAAAAAAAAAAAAAAAAAAAAAAAAAAAAAAAAAAAAAAAAAAAAAAAAAAAAAAAAAAAAAAAAAAAAAAAAAAAAAAAAAAAAAAAAAAAAAAAAAAAAAAAAAAAAAAAAAAAAAAAAAAAAAAAAAAAAAAAAAAAAAAAAAAAAAAAAAAAAAAAAAAAAAAAAAAAAAAAAAAAAAAAAAAAAAAAAAAAAAAAAAAAAAAAAAAAAAAAAAAAAAAAAAAAAAAAAAAAAAAAAAAAAAAAAAAAAAAAAAAAAAAAAAAAAAAAAAAAAAAAAAAAAAAAAAAAAAAAAAAAAAAAAAAAAAAAAAAAAAAAAAAAAAAAA7fnDgRnrdD4=\",\"dtype\":\"float64\",\"shape\":[100]}}},\"id\":\"e55a52df-016f-43e3-b79b-d3d7a2c6da9b\",\"type\":\"ColumnDataSource\"},{\"attributes\":{},\"id\":\"42c25a38-ce9e-4c5e-88a0-953029376543\",\"type\":\"BasicTickFormatter\"},{\"attributes\":{\"dimension\":1,\"plot\":{\"id\":\"6a7f198d-2f63-4f0c-bdf3-0b680db25edf\",\"subtype\":\"Figure\",\"type\":\"Plot\"},\"ticker\":{\"id\":\"7346644d-a664-4c57-8fe1-048635ca1721\",\"type\":\"BasicTicker\"}},\"id\":\"0dc776a0-4637-42da-911c-97da04cf7793\",\"type\":\"Grid\"},{\"attributes\":{\"plot\":{\"id\":\"6a7f198d-2f63-4f0c-bdf3-0b680db25edf\",\"subtype\":\"Figure\",\"type\":\"Plot\"}},\"id\":\"f3f8a424-31f6-4b1c-8164-cb132b63bb48\",\"type\":\"SaveTool\"},{\"attributes\":{\"data_source\":{\"id\":\"e55a52df-016f-43e3-b79b-d3d7a2c6da9b\",\"type\":\"ColumnDataSource\"},\"glyph\":{\"id\":\"60482eb6-10f3-448b-b9bc-73f7b5b2575d\",\"type\":\"Quad\"},\"hover_glyph\":null,\"muted_glyph\":null,\"nonselection_glyph\":{\"id\":\"5454b26c-1c60-47d0-a643-818a2d54e75e\",\"type\":\"Quad\"},\"selection_glyph\":null},\"id\":\"813657cd-0eea-4510-beb7-9bfe2ceec860\",\"type\":\"GlyphRenderer\"},{\"attributes\":{\"formatter\":{\"id\":\"42c25a38-ce9e-4c5e-88a0-953029376543\",\"type\":\"BasicTickFormatter\"},\"plot\":{\"id\":\"6a7f198d-2f63-4f0c-bdf3-0b680db25edf\",\"subtype\":\"Figure\",\"type\":\"Plot\"},\"ticker\":{\"id\":\"7346644d-a664-4c57-8fe1-048635ca1721\",\"type\":\"BasicTicker\"}},\"id\":\"9c2c1889-3d38-44ba-bff8-b522e887679e\",\"type\":\"LinearAxis\"},{\"attributes\":{\"plot\":null,\"text\":\"Top-1000 words distribution\"},\"id\":\"2176d3b7-a06d-48af-bb9d-0bdcbe7f0f39\",\"type\":\"Title\"},{\"attributes\":{\"callback\":null},\"id\":\"c3f2c42f-9a21-4381-a149-a470df559dbe\",\"type\":\"DataRange1d\"},{\"attributes\":{},\"id\":\"350db05c-622a-4b2c-90ab-c5448840ad60\",\"type\":\"BasicTickFormatter\"},{\"attributes\":{\"plot\":{\"id\":\"6a7f198d-2f63-4f0c-bdf3-0b680db25edf\",\"subtype\":\"Figure\",\"type\":\"Plot\"}},\"id\":\"3bdcdc75-af55-49fd-b1de-42dfe3c8a126\",\"type\":\"PanTool\"},{\"attributes\":{\"plot\":{\"id\":\"6a7f198d-2f63-4f0c-bdf3-0b680db25edf\",\"subtype\":\"Figure\",\"type\":\"Plot\"},\"ticker\":{\"id\":\"62c93430-c6cc-4deb-8718-154122b592ea\",\"type\":\"BasicTicker\"}},\"id\":\"49c95e08-5efc-41d1-bfc7-e10d6401c95d\",\"type\":\"Grid\"}],\"root_ids\":[\"6a7f198d-2f63-4f0c-bdf3-0b680db25edf\"]},\"title\":\"Bokeh Application\",\"version\":\"0.12.6\"}};\n",
       "            var render_items = [{\"docid\":\"b7f0517d-7b5b-4f6c-89fe-3e1e77819bc9\",\"elementid\":\"48927abd-a686-4152-acf1-ba73a6861784\",\"modelid\":\"6a7f198d-2f63-4f0c-bdf3-0b680db25edf\"}];\n",
       "            \n",
       "            Bokeh.embed.embed_items(docs_json, render_items);\n",
       "          };\n",
       "          if (document.readyState != \"loading\") fn();\n",
       "          else document.addEventListener(\"DOMContentLoaded\", fn);\n",
       "        })();\n",
       "      },\n",
       "      function(Bokeh) {\n",
       "      }\n",
       "    ];\n",
       "  \n",
       "    function run_inline_js() {\n",
       "      \n",
       "      if ((window.Bokeh !== undefined) || (force === true)) {\n",
       "        for (var i = 0; i < inline_js.length; i++) {\n",
       "          inline_js[i](window.Bokeh);\n",
       "        }if (force === true) {\n",
       "          display_loaded();\n",
       "        }} else if (Date.now() < window._bokeh_timeout) {\n",
       "        setTimeout(run_inline_js, 100);\n",
       "      } else if (!window._bokeh_failed_load) {\n",
       "        console.log(\"Bokeh: BokehJS failed to load within specified timeout.\");\n",
       "        window._bokeh_failed_load = true;\n",
       "      } else if (force !== true) {\n",
       "        var cell = $(document.getElementById(\"48927abd-a686-4152-acf1-ba73a6861784\")).parents('.cell').data().cell;\n",
       "        cell.output_area.append_execute_result(NB_LOAD_WARNING)\n",
       "      }\n",
       "  \n",
       "    }\n",
       "  \n",
       "    if (window._bokeh_is_loading === 0) {\n",
       "      console.log(\"Bokeh: BokehJS loaded, going straight to plotting\");\n",
       "      run_inline_js();\n",
       "    } else {\n",
       "      load_libs(js_urls, function() {\n",
       "        console.log(\"Bokeh: BokehJS plotting callback run at\", now());\n",
       "        run_inline_js();\n",
       "      });\n",
       "    }\n",
       "  }(this));\n",
       "</script>"
      ]
     },
     "metadata": {},
     "output_type": "display_data"
    }
   ],
   "source": [
    "hist, edges = np.histogram(counts_wiki_top1000, density=True, bins=100, normed=True)\n",
    "\n",
    "p = figure(tools=\"pan,wheel_zoom,reset,save\",\n",
    "           toolbar_location=\"above\",\n",
    "           title=\"Top-1000 words distribution\")\n",
    "p.quad(top=hist, bottom=0, left=edges[:-1], right=edges[1:], line_color=\"#555555\")\n",
    "show(p)"
   ]
  },
  {
   "cell_type": "code",
   "execution_count": 110,
   "metadata": {
    "collapsed": true
   },
   "outputs": [],
   "source": [
    "model_wiki = Word2Vec(sentences_wiki)"
   ]
  },
  {
   "cell_type": "markdown",
   "metadata": {},
   "source": [
    "#### t-SNE visualization"
   ]
  },
  {
   "cell_type": "code",
   "execution_count": 114,
   "metadata": {
    "collapsed": false
   },
   "outputs": [
    {
     "name": "stdout",
     "output_type": "stream",
     "text": [
      "u'the'\n"
     ]
    }
   ],
   "source": [
    "# This assumes words_top_wiki is a list of strings, the top 1000 words\n",
    "try:\n",
    "    words_top_vec_wiki = model_wiki[words_top_wiki]\n",
    "except Exception as e:\n",
    "    print str(e)\n",
    "tsne = TSNE(n_components=2, random_state=0)\n",
    "words_top_wiki_tsne = tsne.fit_transform(words_top_vec_wiki)"
   ]
  },
  {
   "cell_type": "code",
   "execution_count": 115,
   "metadata": {
    "collapsed": false
   },
   "outputs": [
    {
     "name": "stderr",
     "output_type": "stream",
     "text": [
      "/usr/local/lib/python2.7/site-packages/bokeh/models/sources.py:91: BokehUserWarning: ColumnDataSource's columns must be of the same length. Current lengths: ('names', 1000), ('x1', 27), ('x2', 27)\n",
      "  \"Current lengths: %s\" % \", \".join(sorted(str((k, len(v))) for k, v in data.items())), BokehUserWarning))\n"
     ]
    },
    {
     "data": {
      "text/html": [
       "\n",
       "\n",
       "    <div class=\"bk-root\">\n",
       "        <div class=\"bk-plotdiv\" id=\"a576d0f9-d627-464d-90a5-bc5f21e4e8ee\"></div>\n",
       "    </div>\n",
       "<script type=\"text/javascript\">\n",
       "  \n",
       "  (function(global) {\n",
       "    function now() {\n",
       "      return new Date();\n",
       "    }\n",
       "  \n",
       "    var force = false;\n",
       "  \n",
       "    if (typeof (window._bokeh_onload_callbacks) === \"undefined\" || force === true) {\n",
       "      window._bokeh_onload_callbacks = [];\n",
       "      window._bokeh_is_loading = undefined;\n",
       "    }\n",
       "  \n",
       "  \n",
       "    \n",
       "    if (typeof (window._bokeh_timeout) === \"undefined\" || force === true) {\n",
       "      window._bokeh_timeout = Date.now() + 0;\n",
       "      window._bokeh_failed_load = false;\n",
       "    }\n",
       "  \n",
       "    var NB_LOAD_WARNING = {'data': {'text/html':\n",
       "       \"<div style='background-color: #fdd'>\\n\"+\n",
       "       \"<p>\\n\"+\n",
       "       \"BokehJS does not appear to have successfully loaded. If loading BokehJS from CDN, this \\n\"+\n",
       "       \"may be due to a slow or bad network connection. Possible fixes:\\n\"+\n",
       "       \"</p>\\n\"+\n",
       "       \"<ul>\\n\"+\n",
       "       \"<li>re-rerun `output_notebook()` to attempt to load from CDN again, or</li>\\n\"+\n",
       "       \"<li>use INLINE resources instead, as so:</li>\\n\"+\n",
       "       \"</ul>\\n\"+\n",
       "       \"<code>\\n\"+\n",
       "       \"from bokeh.resources import INLINE\\n\"+\n",
       "       \"output_notebook(resources=INLINE)\\n\"+\n",
       "       \"</code>\\n\"+\n",
       "       \"</div>\"}};\n",
       "  \n",
       "    function display_loaded() {\n",
       "      if (window.Bokeh !== undefined) {\n",
       "        var el = document.getElementById(\"a576d0f9-d627-464d-90a5-bc5f21e4e8ee\");\n",
       "        el.textContent = \"BokehJS \" + Bokeh.version + \" successfully loaded.\";\n",
       "      } else if (Date.now() < window._bokeh_timeout) {\n",
       "        setTimeout(display_loaded, 100)\n",
       "      }\n",
       "    }\n",
       "  \n",
       "    function run_callbacks() {\n",
       "      try {\n",
       "        window._bokeh_onload_callbacks.forEach(function(callback) { callback() });\n",
       "      }\n",
       "      finally {\n",
       "        delete window._bokeh_onload_callbacks\n",
       "      }\n",
       "      console.info(\"Bokeh: all callbacks have finished\");\n",
       "    }\n",
       "  \n",
       "    function load_libs(js_urls, callback) {\n",
       "      window._bokeh_onload_callbacks.push(callback);\n",
       "      if (window._bokeh_is_loading > 0) {\n",
       "        console.log(\"Bokeh: BokehJS is being loaded, scheduling callback at\", now());\n",
       "        return null;\n",
       "      }\n",
       "      if (js_urls == null || js_urls.length === 0) {\n",
       "        run_callbacks();\n",
       "        return null;\n",
       "      }\n",
       "      console.log(\"Bokeh: BokehJS not loaded, scheduling load and callback at\", now());\n",
       "      window._bokeh_is_loading = js_urls.length;\n",
       "      for (var i = 0; i < js_urls.length; i++) {\n",
       "        var url = js_urls[i];\n",
       "        var s = document.createElement('script');\n",
       "        s.src = url;\n",
       "        s.async = false;\n",
       "        s.onreadystatechange = s.onload = function() {\n",
       "          window._bokeh_is_loading--;\n",
       "          if (window._bokeh_is_loading === 0) {\n",
       "            console.log(\"Bokeh: all BokehJS libraries loaded\");\n",
       "            run_callbacks()\n",
       "          }\n",
       "        };\n",
       "        s.onerror = function() {\n",
       "          console.warn(\"failed to load library \" + url);\n",
       "        };\n",
       "        console.log(\"Bokeh: injecting script tag for BokehJS library: \", url);\n",
       "        document.getElementsByTagName(\"head\")[0].appendChild(s);\n",
       "      }\n",
       "    };var element = document.getElementById(\"a576d0f9-d627-464d-90a5-bc5f21e4e8ee\");\n",
       "    if (element == null) {\n",
       "      console.log(\"Bokeh: ERROR: autoload.js configured with elementid 'a576d0f9-d627-464d-90a5-bc5f21e4e8ee' but no matching script tag was found. \")\n",
       "      return false;\n",
       "    }\n",
       "  \n",
       "    var js_urls = [];\n",
       "  \n",
       "    var inline_js = [\n",
       "      function(Bokeh) {\n",
       "        (function() {\n",
       "          var fn = function() {\n",
       "            var docs_json = {\"712f4367-abd4-4234-924a-07c2e2412f88\":{\"roots\":{\"references\":[{\"attributes\":{},\"id\":\"8a5c6e54-85c2-449e-8aaf-77cd2deba44c\",\"type\":\"LinearScale\"},{\"attributes\":{\"data_source\":{\"id\":\"ffd89211-9fb9-4f4c-942c-4b7f0fa3aa55\",\"type\":\"ColumnDataSource\"},\"glyph\":{\"id\":\"fe1b98cb-b68a-4702-b5be-68da8fb6f4fd\",\"type\":\"Circle\"},\"hover_glyph\":null,\"muted_glyph\":null,\"nonselection_glyph\":{\"id\":\"9ae48cd8-c78a-42e2-9936-f252790305b1\",\"type\":\"Circle\"},\"selection_glyph\":null},\"id\":\"3b37a42b-ec1a-4406-9eba-37cd7b4c7dd4\",\"type\":\"GlyphRenderer\"},{\"attributes\":{\"plot\":{\"id\":\"8d3d4afb-4559-4464-963d-5d5e6ff00194\",\"subtype\":\"Figure\",\"type\":\"Plot\"}},\"id\":\"ba3e7d6e-d218-44cd-b6f9-61cbbc813656\",\"type\":\"ResetTool\"},{\"attributes\":{\"formatter\":{\"id\":\"4e5413c9-17b3-4bff-94fc-2149889b7119\",\"type\":\"BasicTickFormatter\"},\"plot\":{\"id\":\"8d3d4afb-4559-4464-963d-5d5e6ff00194\",\"subtype\":\"Figure\",\"type\":\"Plot\"},\"ticker\":{\"id\":\"d6faa25d-3468-490e-8037-60e67c97ee02\",\"type\":\"BasicTicker\"}},\"id\":\"de595468-554d-4154-899d-7401fe50d8da\",\"type\":\"LinearAxis\"},{\"attributes\":{\"below\":[{\"id\":\"086b44cb-524f-4cc2-9c39-dd95f4026ba4\",\"type\":\"LinearAxis\"}],\"left\":[{\"id\":\"de595468-554d-4154-899d-7401fe50d8da\",\"type\":\"LinearAxis\"}],\"renderers\":[{\"id\":\"086b44cb-524f-4cc2-9c39-dd95f4026ba4\",\"type\":\"LinearAxis\"},{\"id\":\"ae14f3e4-742a-4eed-8c5b-d7f83a91d31d\",\"type\":\"Grid\"},{\"id\":\"de595468-554d-4154-899d-7401fe50d8da\",\"type\":\"LinearAxis\"},{\"id\":\"41a840b7-de91-43fa-90e5-2b932043baef\",\"type\":\"Grid\"},{\"id\":\"3b37a42b-ec1a-4406-9eba-37cd7b4c7dd4\",\"type\":\"GlyphRenderer\"},{\"id\":\"455a05d8-2622-4bc1-8ae3-180c849f5b93\",\"type\":\"LabelSet\"}],\"title\":{\"id\":\"f4712d68-5916-474a-9595-f29aeb174385\",\"type\":\"Title\"},\"tool_events\":{\"id\":\"d67c6f5a-8837-41bb-9c4d-7eb482602edc\",\"type\":\"ToolEvents\"},\"toolbar\":{\"id\":\"a852af9d-af78-4d3a-ac46-15a5e6455abc\",\"type\":\"Toolbar\"},\"toolbar_location\":\"above\",\"x_range\":{\"id\":\"3a5ec35d-bb1b-45d1-b23d-e814b0919a49\",\"type\":\"DataRange1d\"},\"x_scale\":{\"id\":\"8a5c6e54-85c2-449e-8aaf-77cd2deba44c\",\"type\":\"LinearScale\"},\"y_range\":{\"id\":\"35f48a56-0861-4421-9d79-cdc29d05bfb8\",\"type\":\"DataRange1d\"},\"y_scale\":{\"id\":\"f5fdbc9c-d5f9-4e6e-8c41-48e373a0b980\",\"type\":\"LinearScale\"}},\"id\":\"8d3d4afb-4559-4464-963d-5d5e6ff00194\",\"subtype\":\"Figure\",\"type\":\"Plot\"},{\"attributes\":{\"active_drag\":\"auto\",\"active_inspect\":\"auto\",\"active_scroll\":\"auto\",\"active_tap\":\"auto\",\"tools\":[{\"id\":\"b1da9318-b663-4ef6-a700-1d6530b25f5b\",\"type\":\"PanTool\"},{\"id\":\"bc15fa81-994f-4def-9067-8dfde6336dd8\",\"type\":\"WheelZoomTool\"},{\"id\":\"ba3e7d6e-d218-44cd-b6f9-61cbbc813656\",\"type\":\"ResetTool\"},{\"id\":\"26229048-73ec-4e6a-8f80-593594511435\",\"type\":\"SaveTool\"}]},\"id\":\"a852af9d-af78-4d3a-ac46-15a5e6455abc\",\"type\":\"Toolbar\"},{\"attributes\":{\"plot\":{\"id\":\"8d3d4afb-4559-4464-963d-5d5e6ff00194\",\"subtype\":\"Figure\",\"type\":\"Plot\"}},\"id\":\"b1da9318-b663-4ef6-a700-1d6530b25f5b\",\"type\":\"PanTool\"},{\"attributes\":{\"fill_color\":{\"value\":\"#1f77b4\"},\"line_color\":{\"value\":\"#1f77b4\"},\"size\":{\"units\":\"screen\",\"value\":8},\"x\":{\"field\":\"x1\"},\"y\":{\"field\":\"x2\"}},\"id\":\"fe1b98cb-b68a-4702-b5be-68da8fb6f4fd\",\"type\":\"Circle\"},{\"attributes\":{},\"id\":\"f5fdbc9c-d5f9-4e6e-8c41-48e373a0b980\",\"type\":\"LinearScale\"},{\"attributes\":{},\"id\":\"502a587d-0c26-47ce-b60f-f0e05c9af18f\",\"type\":\"BasicTicker\"},{\"attributes\":{\"plot\":{\"id\":\"8d3d4afb-4559-4464-963d-5d5e6ff00194\",\"subtype\":\"Figure\",\"type\":\"Plot\"},\"ticker\":{\"id\":\"502a587d-0c26-47ce-b60f-f0e05c9af18f\",\"type\":\"BasicTicker\"}},\"id\":\"ae14f3e4-742a-4eed-8c5b-d7f83a91d31d\",\"type\":\"Grid\"},{\"attributes\":{},\"id\":\"d6faa25d-3468-490e-8037-60e67c97ee02\",\"type\":\"BasicTicker\"},{\"attributes\":{},\"id\":\"dd6a1d77-8df3-4393-a994-7e3b1997ea60\",\"type\":\"BasicTickFormatter\"},{\"attributes\":{\"fill_alpha\":{\"value\":0.1},\"fill_color\":{\"value\":\"#1f77b4\"},\"line_alpha\":{\"value\":0.1},\"line_color\":{\"value\":\"#1f77b4\"},\"size\":{\"units\":\"screen\",\"value\":8},\"x\":{\"field\":\"x1\"},\"y\":{\"field\":\"x2\"}},\"id\":\"9ae48cd8-c78a-42e2-9936-f252790305b1\",\"type\":\"Circle\"},{\"attributes\":{\"callback\":null,\"column_names\":[\"x2\",\"x1\",\"names\"],\"data\":{\"names\":[\"the\",\"of\",\"and\",\"in\",\"to\",\"a\",\"was\",\"s\",\"on\",\"as\",\"for\",\"that\",\"with\",\"by\",\"is\",\"his\",\"at\",\"he\",\"from\",\"it\",\"were\",\"an\",\"had\",\"which\",\"be\",\"this\",\"but\",\"first\",\"are\",\"not\",\"their\",\"after\",\"one\",\"her\",\"its\",\"also\",\"they\",\"two\",\"or\",\"have\",\"who\",\"been\",\"has\",\"new\",\"she\",\"when\",\"time\",\"during\",\"other\",\"would\",\"into\",\"all\",\"i\",\"more\",\"over\",\"while\",\"him\",\"later\",\"game\",\"only\",\"most\",\"up\",\"about\",\"three\",\"out\",\"th\",\"between\",\"there\",\"than\",\"some\",\"film\",\"may\",\"before\",\"year\",\"no\",\"made\",\"such\",\"season\",\"where\",\"second\",\"years\",\"world\",\"war\",\"both\",\"then\",\"used\",\"however\",\"them\",\"through\",\"being\",\"these\",\"m\",\"series\",\"song\",\"against\",\"album\",\"many\",\"team\",\"city\",\"part\",\"can\",\"became\",\"north\",\"number\",\"well\",\"four\",\"including\",\"united\",\"early\",\"several\",\"state\",\"under\",\"south\",\"so\",\"music\",\"day\",\"episode\",\"following\",\"said\",\"states\",\"known\",\"american\",\"did\",\"although\",\"could\",\"work\",\"until\",\"began\",\"because\",\"released\",\"t\",\"like\",\"called\",\"people\",\"high\",\"end\",\"since\",\"around\",\"each\",\"british\",\"national\",\"long\",\"if\",\"same\",\"best\",\"found\",\"life\",\"west\",\"september\",\"million\",\"back\",\"us\",\"use\",\"another\",\"along\",\"five\",\"group\",\"show\",\"km\",\"off\",\"took\",\"any\",\"century\",\"area\",\"final\",\"august\",\"you\",\"october\",\"received\",\"john\",\"due\",\"line\",\"school\",\"what\",\"will\",\"east\",\"june\",\"government\",\"single\",\"march\",\"home\",\"third\",\"november\",\"games\",\"system\",\"july\",\"much\",\"large\",\"april\",\"general\",\"down\",\"set\",\"left\",\"based\",\"family\",\"house\",\"major\",\"road\",\"just\",\"york\",\"company\",\"band\",\"character\",\"place\",\"played\",\"army\",\"we\",\"six\",\"history\",\"december\",\"name\",\"now\",\"january\",\"included\",\"won\",\"king\",\"wrote\",\"led\",\"within\",\"according\",\"main\",\"last\",\"river\",\"near\",\"d\",\"times\",\"death\",\"own\",\"those\",\"still\",\"next\",\"described\",\"men\",\"named\",\"st\",\"record\",\"battle\",\"late\",\"ship\",\"release\",\"de\",\"top\",\"original\",\"league\",\"video\",\"make\",\"air\",\"way\",\"small\",\"route\",\"even\",\"force\",\"very\",\"species\",\"club\",\"man\",\"great\",\"again\",\"production\",\"public\",\"old\",\"storm\",\"though\",\"u\",\"days\",\"february\",\"university\",\"built\",\"held\",\"among\",\"service\",\"french\",\"play\",\"german\",\"book\",\"having\",\"division\",\"b\",\"further\",\"members\",\"do\",\"side\",\"white\",\"match\",\"story\",\"power\",\"water\",\"role\",\"point\",\"player\",\"park\",\"order\",\"career\",\"former\",\"continued\",\"local\",\"without\",\"black\",\"despite\",\"often\",\"england\",\"h\",\"came\",\"party\",\"considered\",\"town\",\"take\",\"island\",\"half\",\"development\",\"moved\",\"form\",\"written\",\"few\",\"support\",\"different\",\"songs\",\"period\",\"c\",\"county\",\"become\",\"lost\",\"version\",\"english\",\"military\",\"building\",\"tropical\",\"international\",\"country\",\"court\",\"given\",\"london\",\"re\",\"forces\",\"little\",\"church\",\"gave\",\"president\",\"street\",\"tour\",\"ii\",\"published\",\"my\",\"returned\",\"attack\",\"performance\",\"lead\",\"n\",\"royal\",\"using\",\"went\",\"position\",\"similar\",\"track\",\"aircraft\",\"produced\",\"television\",\"never\",\"class\",\"children\",\"run\",\"stated\",\"short\",\"land\",\"recorded\",\"total\",\"western\",\"how\",\"ships\",\"good\",\"throughout\",\"women\",\"fire\",\"live\",\"highway\",\"making\",\"include\",\"father\",\"per\",\"week\",\"upon\",\"control\",\"star\",\"himself\",\"once\",\"players\",\"head\",\"central\",\"australia\",\"design\",\"love\",\"right\",\"less\",\"me\",\"months\",\"characters\",\"rock\",\"station\",\"away\",\"across\",\"instead\",\"ft\",\"title\",\"age\",\"young\",\"seven\",\"red\",\"sea\",\"remained\",\"light\",\"return\",\"previous\",\"writing\",\"ten\",\"died\",\"developed\",\"eight\",\"result\",\"james\",\"r\",\"political\",\"award\",\"low\",\"night\",\"created\",\"too\",\"southern\",\"e\",\"law\",\"noted\",\"center\",\"reported\",\"felt\",\"field\",\"various\",\"william\",\"areas\",\"hurricane\",\"eventually\",\"construction\",\"style\",\"son\",\"act\",\"america\",\"college\",\"race\",\"announced\",\"office\",\"should\",\"japanese\",\"win\",\"sent\",\"seen\",\"miles\",\"followed\",\"together\",\"performed\",\"reached\",\"served\",\"able\",\"level\",\"full\",\"taken\",\"killed\",\"northern\",\"common\",\"mm\",\"member\",\"chart\",\"modern\",\"works\",\"campaign\",\"success\",\"body\",\"action\",\"established\",\"points\",\"australian\",\"born\",\"located\",\"george\",\"football\",\"special\",\"range\",\"post\",\"originally\",\"front\",\"appeared\",\"critics\",\"fourth\",\"others\",\"feet\",\"playing\",\"started\",\"addition\",\"features\",\"bridge\",\"project\",\"get\",\"added\",\"rather\",\"decided\",\"thought\",\"formed\",\"sold\",\"present\",\"behind\",\"stage\",\"saw\",\"site\",\"caused\",\"ground\",\"close\",\"damage\",\"population\",\"art\",\"f\",\"strong\",\"director\",\"awards\",\"heavy\",\"championship\",\"soon\",\"almost\",\"non\",\"completed\",\"o\",\"kingdom\",\"popular\",\"command\",\"see\",\"opened\",\"every\",\"open\",\"important\",\"fleet\",\"eastern\",\"initially\",\"l\",\"case\",\"go\",\"hall\",\"worked\",\"scored\",\"coast\",\"david\",\"weeks\",\"towards\",\"guns\",\"leading\",\"recording\",\"event\",\"region\",\"mi\",\"free\",\"working\",\"union\",\"least\",\"provided\",\"mother\",\"training\",\"help\",\"sound\",\"records\",\"cup\",\"featured\",\"michael\",\"wife\",\"france\",\"scene\",\"henry\",\"does\",\"brought\",\"victory\",\"troops\",\"average\",\"ever\",\"navy\",\"put\",\"wanted\",\"allowed\",\"generally\",\"placed\",\"example\",\"either\",\"council\",\"studio\",\"far\",\"magazine\",\"joined\",\"runs\",\"finished\",\"mid\",\"hit\",\"washington\",\"summer\",\"believed\",\"human\",\"events\",\"list\",\"europe\",\"co\",\"society\",\"designed\",\"minutes\",\"nine\",\"robert\",\"possible\",\"big\",\"base\",\"hours\",\"replaced\",\"operation\",\"japan\",\"media\",\"involved\",\"significant\",\"start\",\"european\",\"radio\",\"community\",\"particularly\",\"successful\",\"official\",\"beginning\",\"met\",\"shot\",\"squadron\",\"process\",\"brown\",\"al\",\"opening\",\"rest\",\"association\",\"films\",\"police\",\"review\",\"crew\",\"month\",\"test\",\"available\",\"x\",\"better\",\"captain\",\"forced\",\"stone\",\"turned\",\"increased\",\"above\",\"largest\",\"earlier\",\"outside\",\"saying\",\"change\",\"mph\",\"highest\",\"business\",\"signed\",\"research\",\"taking\",\"enough\",\"cast\",\"come\",\"social\",\"must\",\"praised\",\"relationship\",\"section\",\"ordered\",\"ended\",\"reviews\",\"hill\",\"middle\",\"appearance\",\"g\",\"program\",\"charles\",\"future\",\"lower\",\"previously\",\"move\",\"thomas\",\"real\",\"thus\",\"units\",\"passed\",\"space\",\"going\",\"elements\",\"additional\",\"rights\",\"san\",\"goal\",\"board\",\"california\",\"winds\",\"lake\",\"positive\",\"round\",\"parts\",\"gold\",\"castle\",\"cross\",\"overall\",\"spent\",\"chief\",\"paul\",\"find\",\"female\",\"musical\",\"canada\",\"money\",\"failed\",\"plan\",\"told\",\"grand\",\"infantry\",\"v\",\"type\",\"staff\",\"study\",\"critical\",\"asked\",\"sometimes\",\"directed\",\"don\",\"lines\",\"india\",\"committee\",\"gun\",\"interest\",\"attempt\",\"district\",\"news\",\"germany\",\"required\",\"itself\",\"whose\",\"claimed\",\"personal\",\"prior\",\"give\",\"whom\",\"brother\",\"bill\",\"groups\",\"cover\",\"port\",\"uk\",\"p\",\"flight\",\"evidence\",\"complete\",\"novel\",\"students\",\"surface\",\"indian\",\"reception\",\"issue\",\"stars\",\"usually\",\"effects\",\"term\",\"food\",\"plot\",\"smith\",\"background\",\"hand\",\"k\",\"room\",\"election\",\"entire\",\"person\",\"our\",\"governor\",\"quickly\",\"score\",\"movement\",\"already\",\"peter\",\"battalion\",\"idea\",\"education\",\"decision\",\"ny\",\"cut\",\"past\",\"industry\",\"square\",\"limited\",\"larger\",\"response\",\"structure\",\"green\",\"episodes\",\"loss\",\"turn\",\"introduced\",\"press\",\"arrived\",\"operations\",\"anti\",\"earth\",\"queen\",\"bay\",\"department\",\"speed\",\"scenes\",\"pressure\",\"carried\",\"nearly\",\"britain\",\"teams\",\"mark\",\"fifth\",\"entered\",\"science\",\"estimated\",\"la\",\"latter\",\"running\",\"services\",\"voice\",\"railway\",\"village\",\"living\",\"shows\",\"debut\",\"influence\",\"date\",\"centre\",\"winning\",\"commercial\",\"commander\",\"material\",\"depression\",\"might\",\"appointed\",\"blue\",\"finally\",\"car\",\"network\",\"leader\",\"especially\",\"civil\",\"pop\",\"changes\",\"remaining\",\"report\",\"empire\",\"los\",\"length\",\"virginia\",\"becoming\",\"view\",\"shortly\",\"suggested\",\"language\",\"daughter\",\"wide\",\"regular\",\"woman\",\"minister\",\"self\",\"today\",\"hot\",\"leaving\",\"approximately\",\"tracks\",\"course\",\"richard\",\"destroyed\",\"fact\",\"chinese\",\"nature\",\"god\",\"writer\",\"spanish\",\"proposed\",\"size\",\"defeated\",\"islands\",\"create\",\"lack\",\"brigade\",\"child\",\"soviet\",\"dark\",\"percent\",\"naval\",\"intended\",\"your\",\"supported\",\"health\",\"agreed\",\"cost\",\"fort\",\"longer\",\"manager\",\"experience\",\"higher\",\"professional\",\"whether\",\"married\",\"location\",\"producer\",\"buildings\",\"museum\",\"current\",\"associated\",\"provide\",\"trade\",\"upper\",\"subsequently\",\"captured\",\"awarded\",\"planned\",\"contract\",\"compared\",\"themselves\",\"edward\",\"appear\",\"immediately\",\"natural\",\"johnson\",\"fans\",\"helped\",\"plans\",\"cm\",\"ball\",\"probably\",\"face\",\"effect\",\"private\",\"numerous\",\"nd\",\"related\",\"soldiers\",\"remains\",\"corps\",\"guitar\",\"lyrics\",\"officer\",\"done\",\"initial\",\"always\",\"feature\",\"billboard\",\"federal\",\"lord\",\"chicago\",\"changed\",\"terms\",\"minor\",\"mostly\",\"yet\",\"forward\",\"jackson\",\"extended\",\"singer\",\"china\",\"includes\",\"friends\",\"moving\",\"books\",\"leave\",\"information\",\"something\",\"status\",\"florida\",\"officers\",\"energy\",\"pacific\",\"copies\",\"inspired\",\"regiment\",\"suffered\",\"mixed\",\"really\",\"issued\",\"edition\",\"singles\",\"unit\",\"j\",\"meeting\",\"countries\",\"unable\",\"likely\",\"problems\",\"cause\",\"atlantic\",\"key\",\"got\",\"removed\",\"conference\",\"christian\",\"africa\",\"winter\",\"poor\",\"wall\"],\"x1\":{\"__ndarray__\":\"Vg/r74kPJz8gZvJScpYZP6GE2QVxZCg/GtTE9WraGD9lx5yl64blvlWgzjUrK+4+qx0mrRHuEz+3rf96iT8HPzAtWvvyhyM/mI8w37hjAD952vH9bqswv5l+kIFvnhY/VYhr/zGfLT/HSvCLJUPTPjnbN1oxCSQ/btsk0ZBF8D5vNU9ZjDIXv7/NnjRjPAK/5t1WyUAUID8Qsc0W608Ev2ZzYAzKYxu/14sH4TpIJr8djXzaiK0Kv1tWkRWAXyC/kDmJBI8VJb8Xe32i7WwXv1eIGKn4sAq/\",\"dtype\":\"float64\",\"shape\":[27]},\"x2\":{\"__ndarray__\":\"f/bshlvqBD81k53ny0ctP7besZ/4hxm/Vi84S9+Y776JU1pENo4FP6U7RcuAASM/JpMiRsuK6T7juRqXHXgBP6xks3tabPW+rhidvbBaFr8tbqyfXRYRP6YJrwgjaxO/asn4z6sBI79/E58XP5vzvpHo87oINyM/w2Pio57NAz9Dv6WDP94pv7PAf2FqbPA+eIv80m1zHz8VLGW/86b/vmGch2JGkCK/K9e1sxh/KT8bzhpKn/cGv8Tz1aCeUxQ/A3W5fUco9r6eD7pmdUIEPwysUHiq4h6/\",\"dtype\":\"float64\",\"shape\":[27]}}},\"id\":\"ffd89211-9fb9-4f4c-942c-4b7f0fa3aa55\",\"type\":\"ColumnDataSource\"},{\"attributes\":{},\"id\":\"4e5413c9-17b3-4bff-94fc-2149889b7119\",\"type\":\"BasicTickFormatter\"},{\"attributes\":{\"formatter\":{\"id\":\"dd6a1d77-8df3-4393-a994-7e3b1997ea60\",\"type\":\"BasicTickFormatter\"},\"plot\":{\"id\":\"8d3d4afb-4559-4464-963d-5d5e6ff00194\",\"subtype\":\"Figure\",\"type\":\"Plot\"},\"ticker\":{\"id\":\"502a587d-0c26-47ce-b60f-f0e05c9af18f\",\"type\":\"BasicTicker\"}},\"id\":\"086b44cb-524f-4cc2-9c39-dd95f4026ba4\",\"type\":\"LinearAxis\"},{\"attributes\":{\"callback\":null},\"id\":\"3a5ec35d-bb1b-45d1-b23d-e814b0919a49\",\"type\":\"DataRange1d\"},{\"attributes\":{\"callback\":null},\"id\":\"35f48a56-0861-4421-9d79-cdc29d05bfb8\",\"type\":\"DataRange1d\"},{\"attributes\":{\"plot\":{\"id\":\"8d3d4afb-4559-4464-963d-5d5e6ff00194\",\"subtype\":\"Figure\",\"type\":\"Plot\"},\"source\":{\"id\":\"ffd89211-9fb9-4f4c-942c-4b7f0fa3aa55\",\"type\":\"ColumnDataSource\"},\"text\":{\"field\":\"names\"},\"text_align\":\"center\",\"text_color\":{\"value\":\"#555555\"},\"text_font_size\":{\"value\":\"8pt\"},\"x\":{\"field\":\"x1\"},\"y\":{\"field\":\"x2\"},\"y_offset\":{\"value\":6}},\"id\":\"455a05d8-2622-4bc1-8ae3-180c849f5b93\",\"type\":\"LabelSet\"},{\"attributes\":{\"plot\":{\"id\":\"8d3d4afb-4559-4464-963d-5d5e6ff00194\",\"subtype\":\"Figure\",\"type\":\"Plot\"}},\"id\":\"bc15fa81-994f-4def-9067-8dfde6336dd8\",\"type\":\"WheelZoomTool\"},{\"attributes\":{},\"id\":\"d67c6f5a-8837-41bb-9c4d-7eb482602edc\",\"type\":\"ToolEvents\"},{\"attributes\":{\"dimension\":1,\"plot\":{\"id\":\"8d3d4afb-4559-4464-963d-5d5e6ff00194\",\"subtype\":\"Figure\",\"type\":\"Plot\"},\"ticker\":{\"id\":\"d6faa25d-3468-490e-8037-60e67c97ee02\",\"type\":\"BasicTicker\"}},\"id\":\"41a840b7-de91-43fa-90e5-2b932043baef\",\"type\":\"Grid\"},{\"attributes\":{\"plot\":null,\"text\":\"word2vec T-SNE for most common words\"},\"id\":\"f4712d68-5916-474a-9595-f29aeb174385\",\"type\":\"Title\"},{\"attributes\":{\"plot\":{\"id\":\"8d3d4afb-4559-4464-963d-5d5e6ff00194\",\"subtype\":\"Figure\",\"type\":\"Plot\"}},\"id\":\"26229048-73ec-4e6a-8f80-593594511435\",\"type\":\"SaveTool\"}],\"root_ids\":[\"8d3d4afb-4559-4464-963d-5d5e6ff00194\"]},\"title\":\"Bokeh Application\",\"version\":\"0.12.6\"}};\n",
       "            var render_items = [{\"docid\":\"712f4367-abd4-4234-924a-07c2e2412f88\",\"elementid\":\"a576d0f9-d627-464d-90a5-bc5f21e4e8ee\",\"modelid\":\"8d3d4afb-4559-4464-963d-5d5e6ff00194\"}];\n",
       "            \n",
       "            Bokeh.embed.embed_items(docs_json, render_items);\n",
       "          };\n",
       "          if (document.readyState != \"loading\") fn();\n",
       "          else document.addEventListener(\"DOMContentLoaded\", fn);\n",
       "        })();\n",
       "      },\n",
       "      function(Bokeh) {\n",
       "      }\n",
       "    ];\n",
       "  \n",
       "    function run_inline_js() {\n",
       "      \n",
       "      if ((window.Bokeh !== undefined) || (force === true)) {\n",
       "        for (var i = 0; i < inline_js.length; i++) {\n",
       "          inline_js[i](window.Bokeh);\n",
       "        }if (force === true) {\n",
       "          display_loaded();\n",
       "        }} else if (Date.now() < window._bokeh_timeout) {\n",
       "        setTimeout(run_inline_js, 100);\n",
       "      } else if (!window._bokeh_failed_load) {\n",
       "        console.log(\"Bokeh: BokehJS failed to load within specified timeout.\");\n",
       "        window._bokeh_failed_load = true;\n",
       "      } else if (force !== true) {\n",
       "        var cell = $(document.getElementById(\"a576d0f9-d627-464d-90a5-bc5f21e4e8ee\")).parents('.cell').data().cell;\n",
       "        cell.output_area.append_execute_result(NB_LOAD_WARNING)\n",
       "      }\n",
       "  \n",
       "    }\n",
       "  \n",
       "    if (window._bokeh_is_loading === 0) {\n",
       "      console.log(\"Bokeh: BokehJS loaded, going straight to plotting\");\n",
       "      run_inline_js();\n",
       "    } else {\n",
       "      load_libs(js_urls, function() {\n",
       "        console.log(\"Bokeh: BokehJS plotting callback run at\", now());\n",
       "        run_inline_js();\n",
       "      });\n",
       "    }\n",
       "  }(this));\n",
       "</script>"
      ]
     },
     "metadata": {},
     "output_type": "display_data"
    }
   ],
   "source": [
    "p = figure(tools=\"pan,wheel_zoom,reset,save\",\n",
    "           toolbar_location=\"above\",\n",
    "           title=\"word2vec T-SNE for most common words\")\n",
    "\n",
    "source = ColumnDataSource(data=dict(x1=words_top_wiki_tsne[:,0],\n",
    "                                    x2=words_top_wiki_tsne[:,1],\n",
    "                                    names=words_top_wiki))\n",
    "\n",
    "p.scatter(x=\"x1\", y=\"x2\", size=8, source=source)\n",
    "\n",
    "labels = LabelSet(x=\"x1\", y=\"x2\", text=\"names\", y_offset=6,\n",
    "                  text_font_size=\"8pt\", text_color=\"#555555\",\n",
    "                  source=source, text_align='center')\n",
    "p.add_layout(labels)\n",
    "\n",
    "show(p)"
   ]
  }
 ],
 "metadata": {
  "anaconda-cloud": {},
  "kernelspec": {
   "display_name": "Python 2",
   "language": "python",
   "name": "python2"
  },
  "language_info": {
   "codemirror_mode": {
    "name": "ipython",
    "version": 2
   },
   "file_extension": ".py",
   "mimetype": "text/x-python",
   "name": "python",
   "nbconvert_exporter": "python",
   "pygments_lexer": "ipython2",
   "version": "2.7.12"
  }
 },
 "nbformat": 4,
 "nbformat_minor": 0
}
